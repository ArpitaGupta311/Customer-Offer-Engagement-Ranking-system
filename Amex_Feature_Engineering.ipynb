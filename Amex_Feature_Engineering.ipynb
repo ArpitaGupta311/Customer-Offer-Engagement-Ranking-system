{
 "cells": [
  {
   "cell_type": "code",
   "execution_count": 1,
   "id": "2f95f0e6-6483-42b0-a0a9-89b90d7e41f8",
   "metadata": {},
   "outputs": [],
   "source": [
    "import pandas as pd\n",
    "import numpy as np"
   ]
  },
  {
   "cell_type": "code",
   "execution_count": 2,
   "id": "7f0dbb68-fba2-46a1-9996-4c2504c0c2e6",
   "metadata": {},
   "outputs": [],
   "source": [
    "train = pd.read_csv('cleaned_train_data.csv')"
   ]
  },
  {
   "cell_type": "code",
   "execution_count": 3,
   "id": "f8533564-6885-4963-8300-091c76ab31fc",
   "metadata": {},
   "outputs": [],
   "source": [
    "events = pd.read_csv('add_event.csv')\n",
    "offers = pd.read_csv('offer_metadata.csv', sep='\\t', engine='python', on_bad_lines='skip')"
   ]
  },
  {
   "cell_type": "code",
   "execution_count": 4,
   "id": "68610116-610d-437e-b5fc-db3418938276",
   "metadata": {},
   "outputs": [],
   "source": [
    "test = pd.read_csv('test_data.xls.csv')"
   ]
  },
  {
   "cell_type": "code",
   "execution_count": 5,
   "id": "981d87f7-97ad-493b-8213-6ed58d32ef03",
   "metadata": {},
   "outputs": [
    {
     "name": "stdout",
     "output_type": "stream",
     "text": [
      "<class 'pandas.core.frame.DataFrame'>\n",
      "RangeIndex: 770164 entries, 0 to 770163\n",
      "Columns: 372 entries, id1 to f366\n",
      "dtypes: float64(355), int64(5), object(12)\n",
      "memory usage: 2.1+ GB\n"
     ]
    }
   ],
   "source": [
    "train.info()"
   ]
  },
  {
   "cell_type": "code",
   "execution_count": 6,
   "id": "06b5d3f2-3949-490b-8fab-75be7b39b810",
   "metadata": {},
   "outputs": [],
   "source": [
    "#merging offer\n",
    "train = train.merge(offers, on='id3', how='left')\n",
    "test = test.merge(offers, on='id3', how='left')"
   ]
  },
  {
   "cell_type": "code",
   "execution_count": 7,
   "id": "b80c61a5-5e38-4511-9be9-5a232412ba30",
   "metadata": {},
   "outputs": [],
   "source": [
    "#merging events\n",
    "train = train.merge(events, on=['id2', 'id3', 'id4'], how='left')\n",
    "test = test.merge(events, on=['id2', 'id3', 'id4'], how='left')"
   ]
  },
  {
   "cell_type": "code",
   "execution_count": 8,
   "id": "22d44971-0d9a-448e-a524-d10bf9b6677d",
   "metadata": {},
   "outputs": [
    {
     "name": "stdout",
     "output_type": "stream",
     "text": [
      "<class 'pandas.core.frame.DataFrame'>\n",
      "RangeIndex: 770164 entries, 0 to 770163\n",
      "Columns: 385 entries, id1 to id7\n",
      "dtypes: float64(361), int64(5), object(19)\n",
      "memory usage: 2.2+ GB\n"
     ]
    }
   ],
   "source": [
    "train.info()"
   ]
  },
  {
   "cell_type": "code",
   "execution_count": 9,
   "id": "d57a7e7b-2140-4b19-ab87-402d03f42ade",
   "metadata": {},
   "outputs": [
    {
     "name": "stdout",
     "output_type": "stream",
     "text": [
      "Columns that are completely null:\n",
      "['f112', 'f122', 'f135', 'f136', 'f377', 'id11', 'id6', 'id7']\n",
      "\n",
      "Count of completely null columns: 8\n"
     ]
    }
   ],
   "source": [
    "null_cols = [col for col in train.columns if train[col].isnull().all()]\n",
    "print(\"Columns that are completely null:\")\n",
    "print(null_cols)\n",
    "print(f\"\\nCount of completely null columns: {len(null_cols)}\")"
   ]
  },
  {
   "cell_type": "code",
   "execution_count": 10,
   "id": "74969ab7-8f6f-4863-9476-377bb5d374ba",
   "metadata": {},
   "outputs": [
    {
     "name": "stdout",
     "output_type": "stream",
     "text": [
      "Top 20 columns with most missing values:\n",
      "id7     1.000000\n",
      "id6     1.000000\n",
      "f122    1.000000\n",
      "f112    1.000000\n",
      "f135    1.000000\n",
      "f136    1.000000\n",
      "id11    1.000000\n",
      "f377    1.000000\n",
      "f80     0.999899\n",
      "f360    0.999699\n",
      "f120    0.999671\n",
      "f34     0.999475\n",
      "f18     0.999096\n",
      "f19     0.999096\n",
      "f14     0.999096\n",
      "f21     0.999096\n",
      "f17     0.999096\n",
      "f16     0.999096\n",
      "f20     0.999096\n",
      "f13     0.999096\n",
      "dtype: float64\n"
     ]
    }
   ],
   "source": [
    "null_summary = train.isnull().mean().sort_values(ascending=False)\n",
    "print(\"Top 20 columns with most missing values:\")\n",
    "print(null_summary.head(20))"
   ]
  },
  {
   "cell_type": "code",
   "execution_count": 11,
   "id": "f495b8a1-d820-4359-bc8a-f388a031c8ed",
   "metadata": {},
   "outputs": [
    {
     "name": "stdout",
     "output_type": "stream",
     "text": [
      "                                               id1      id2        id3  \\\n",
      "0  1366776_189706075_16-23_2023-11-02 22:22:00.042  1366776  189706075   \n",
      "1      1366776_89227_16-23_2023-11-01 23:51:24.999  1366776      89227   \n",
      "2      1366776_35046_16-23_2023-11-01 00:30:59.797  1366776      35046   \n",
      "3    1366776_6275451_16-23_2023-11-02 22:21:32.261  1366776    6275451   \n",
      "4      1366776_78053_16-23_2023-11-02 22:21:34.799  1366776      78053   \n",
      "\n",
      "                       id4         id5  y   f1  f2  f3  f4  ...  f377  id10  \\\n",
      "0  2023-11-02 22:22:00.042  2023-11-02  0  1.0 NaN NaN NaN  ...   NaN   NaN   \n",
      "1  2023-11-01 23:51:24.999  2023-11-01  0  1.0 NaN NaN NaN  ...   NaN   1.0   \n",
      "2  2023-11-01 00:30:59.797  2023-11-01  0  1.0 NaN NaN NaN  ...   NaN   1.0   \n",
      "3  2023-11-02 22:21:32.261  2023-11-02  0  1.0 NaN NaN NaN  ...   NaN   1.0   \n",
      "4  2023-11-02 22:21:34.799  2023-11-02  0  1.0 NaN NaN NaN  ...   NaN   NaN   \n",
      "\n",
      "   id11                                   f378                    f374  \\\n",
      "0   NaN                                    NaN                     NaN   \n",
      "1   NaN  ga$scbuyeectsamo$ioompoawb4lo1sc(o$st           Liquor Stores   \n",
      "2   NaN        g1baascbuyeectmpoatb1lo$bitscst            Beauty Shops   \n",
      "3   NaN        g1baascbuyeectmpoadb1lo$bitscst  Family Clothing Stores   \n",
      "4   NaN                                    NaN                     NaN   \n",
      "\n",
      "          id8              id12              id13,,,  id6  id7  \n",
      "0         NaN               NaN                  NaN  NaN  NaN  \n",
      "1  59210000.0  01-11-2023 00:00  30-04-2024 23:59,,,  NaN  NaN  \n",
      "2  72310000.0  01-11-2023 00:00  30-11-2023 23:59,,,  NaN  NaN  \n",
      "3  56510500.0  01-11-2023 00:00  30-11-2023 23:59,,,  NaN  NaN  \n",
      "4         NaN               NaN                  NaN  NaN  NaN  \n",
      "\n",
      "[5 rows x 385 columns]\n"
     ]
    }
   ],
   "source": [
    "example_missing = train[train.isnull().any(axis=1)].head()\n",
    "print(example_missing)"
   ]
  },
  {
   "cell_type": "code",
   "execution_count": 12,
   "id": "98c98aa9-bbf6-4752-a7b4-1c65526f4703",
   "metadata": {},
   "outputs": [],
   "source": [
    "num_cols = train.select_dtypes(include=np.number).columns"
   ]
  },
  {
   "cell_type": "code",
   "execution_count": 13,
   "id": "3c4abdbc-2d13-45c3-a80d-cf465eefa1a6",
   "metadata": {},
   "outputs": [
    {
     "name": "stdout",
     "output_type": "stream",
     "text": [
      "id2: {'min': np.float64(1000043.0), '1st_pct': np.float64(1010283.45), '5th_pct': np.float64(1049780.0), '95th_pct': np.float64(1864317.0), '99th_pct': np.float64(1901675.0), 'max': np.float64(1910568.0), 'missing_pct': np.float64(0.0)}\n",
      "id3: {'min': np.float64(1185.0), '1st_pct': np.float64(1525.0), '5th_pct': np.float64(13209.0), '95th_pct': np.float64(88456737.0), '99th_pct': np.float64(667725438.0), 'max': np.float64(876665835.0), 'missing_pct': np.float64(0.0)}\n",
      "y: {'min': np.float64(0.0), '1st_pct': np.float64(0.0), '5th_pct': np.float64(0.0), '95th_pct': np.float64(0.0), '99th_pct': np.float64(1.0), 'max': np.float64(1.0), 'missing_pct': np.float64(0.0)}\n",
      "f1: {'min': np.float64(1.0), '1st_pct': np.float64(1.0), '5th_pct': np.float64(5.0), '95th_pct': np.float64(82.0), '99th_pct': np.float64(96.0), 'max': np.float64(100.0), 'missing_pct': np.float64(0.6383809162723784)}\n",
      "f2: {'min': np.float64(1.0), '1st_pct': np.float64(1.0), '5th_pct': np.float64(4.0), '95th_pct': np.float64(75.0), '99th_pct': np.float64(94.0), 'max': np.float64(100.0), 'missing_pct': np.float64(0.5806451612903226)}\n",
      "f3: {'min': np.float64(1.0), '1st_pct': np.float64(1.0), '5th_pct': np.float64(1.0), '95th_pct': np.float64(87.0), '99th_pct': np.float64(97.0), 'max': np.float64(100.0), 'missing_pct': np.float64(0.859040412171953)}\n",
      "f4: {'min': np.float64(1.0), '1st_pct': np.float64(1.0), '5th_pct': np.float64(1.0), '95th_pct': np.float64(93.0), '99th_pct': np.float64(99.0), 'max': np.float64(100.0), 'missing_pct': np.float64(0.9105787858170468)}\n",
      "f5: {'min': np.float64(1.0), '1st_pct': np.float64(1.0), '5th_pct': np.float64(3.0), '95th_pct': np.float64(82.0), '99th_pct': np.float64(97.0), 'max': np.float64(100.0), 'missing_pct': np.float64(0.3009878415506308)}\n",
      "f6: {'min': np.float64(1.0), '1st_pct': np.float64(1.0), '5th_pct': np.float64(5.0), '95th_pct': np.float64(82.0), '99th_pct': np.float64(98.0), 'max': np.float64(100.0), 'missing_pct': np.float64(0.1949052409616653)}\n",
      "f7: {'min': np.float64(1.0), '1st_pct': np.float64(1.0), '5th_pct': np.float64(1.0), '95th_pct': np.float64(84.0), '99th_pct': np.float64(96.0), 'max': np.float64(100.0), 'missing_pct': np.float64(0.4770905936917332)}\n"
     ]
    }
   ],
   "source": [
    "outlier_report = {}\n",
    "for col in num_cols:\n",
    "    desc = train[col].describe(percentiles=[0.01, 0.05, 0.95, 0.99])\n",
    "    outlier_report[col] = {\n",
    "        \"min\": desc[\"min\"],\n",
    "        \"1st_pct\": desc[\"1%\"],\n",
    "        \"5th_pct\": desc[\"5%\"],\n",
    "        \"95th_pct\": desc[\"95%\"],\n",
    "        \"99th_pct\": desc[\"99%\"],\n",
    "        \"max\": desc[\"max\"],\n",
    "        \"missing_pct\": train[col].isnull().mean()\n",
    "    }\n",
    "\n",
    "for col, vals in list(outlier_report.items())[:10]:  # first 10 as example\n",
    "    print(f\"{col}: {vals}\")"
   ]
  },
  {
   "cell_type": "code",
   "execution_count": 14,
   "id": "31c3e77f-beff-4fec-8a74-916caf6f09eb",
   "metadata": {},
   "outputs": [
    {
     "name": "stdout",
     "output_type": "stream",
     "text": [
      "Column: id1\n",
      "Unique values in train: 770164\n",
      "Sample values: ['1366776_189706075_16-23_2023-11-02 22:22:00.042'\n",
      " '1366776_89227_16-23_2023-11-01 23:51:24.999'\n",
      " '1366776_35046_16-23_2023-11-01 00:30:59.797'\n",
      " '1366776_6275451_16-23_2023-11-02 22:21:32.261'\n",
      " '1366776_78053_16-23_2023-11-02 22:21:34.799']\n",
      "------------------------------\n",
      "Column: id4\n",
      "Unique values in train: 763371\n",
      "Sample values: ['2023-11-02 22:22:00.042' '2023-11-01 23:51:24.999'\n",
      " '2023-11-01 00:30:59.797' '2023-11-02 22:21:32.261'\n",
      " '2023-11-02 22:21:34.799']\n",
      "------------------------------\n",
      "Column: id5\n",
      "Unique values in train: 3\n",
      "Sample values: ['2023-11-02' '2023-11-01' '2023-11-03']\n",
      "------------------------------\n",
      "Column: f42\n",
      "Unique values in train: 4\n",
      "Sample values: ['R' 'G' 'P' 'S']\n",
      "------------------------------\n",
      "Column: f50\n",
      "Unique values in train: 2\n",
      "Sample values: ['Y' 'N']\n",
      "------------------------------\n",
      "Column: f52\n",
      "Unique values in train: 2\n",
      "Sample values: ['N' 'Y']\n",
      "------------------------------\n",
      "Column: f53\n",
      "Unique values in train: 2\n",
      "Sample values: ['NY' 'NN']\n",
      "------------------------------\n",
      "Column: f54\n",
      "Unique values in train: 6\n",
      "Sample values: ['F' 'A' 'D' 'E' 'C']\n",
      "------------------------------\n",
      "Column: f55\n",
      "Unique values in train: 10\n",
      "Sample values: ['-' 'H' 'W' 'D' 'M']\n",
      "------------------------------\n",
      "Column: f56\n",
      "Unique values in train: 4\n",
      "Sample values: ['G' 'B' 'S' 'D']\n",
      "------------------------------\n",
      "Column: f57\n",
      "Unique values in train: 4\n",
      "Sample values: ['H' 'P' 'A' 'Z']\n",
      "------------------------------\n",
      "Column: f354\n",
      "Unique values in train: 2\n",
      "Sample values: ['Phase_1' 'Rest']\n",
      "------------------------------\n",
      "Column: id9\n",
      "Unique values in train: 400\n",
      "Sample values: ['WE-WA&G' 't' 'd' 'c' 'TR']\n",
      "------------------------------\n",
      "Column: f378\n",
      "Unique values in train: 468\n",
      "Sample values: ['ga$scbuyeectsamo$ioompoawb4lo1sc(o$st' 'g1baascbuyeectmpoatb1lo$bitscst'\n",
      " 'g1baascbuyeectmpoadb1lo$bitscst' 'g6baascbuyeectmpoacb1lo$bitscst'\n",
      " 'gao$scbuyeectsamo$ioomqpatrf8t2batst']\n",
      "------------------------------\n",
      "Column: f374\n",
      "Unique values in train: 66\n",
      "Sample values: ['Liquor Stores' 'Beauty Shops' 'Family Clothing Stores' 'Shoe Stores'\n",
      " 'Eating Places']\n",
      "------------------------------\n",
      "Column: id12\n",
      "Unique values in train: 104\n",
      "Sample values: ['01-11-2023 00:00' '16-08-2023 00:00' '18-09-2023 00:00'\n",
      " '30-10-2023 00:00' '31-07-2023 00:00']\n",
      "------------------------------\n",
      "Column: id13,,,\n",
      "Unique values in train: 115\n",
      "Sample values: ['30-04-2024 23:59,,,' '30-11-2023 23:59,,,' '16-02-2024 23:59,,,'\n",
      " '31-01-2024 23:59,,,' '07-03-2024 23:59,,,']\n",
      "------------------------------\n",
      "Column: id6\n",
      "Unique values in train: 0\n",
      "Sample values: []\n",
      "------------------------------\n",
      "Column: id7\n",
      "Unique values in train: 0\n",
      "Sample values: []\n",
      "------------------------------\n"
     ]
    }
   ],
   "source": [
    "cat_cols = train.select_dtypes(include=\"object\").columns\n",
    "\n",
    "for col in cat_cols:\n",
    "    print(f\"Column: {col}\")\n",
    "    print(f\"Unique values in train: {train[col].nunique()}\")\n",
    "    print(f\"Sample values: {train[col].dropna().unique()[:5]}\")\n",
    "    print(\"-\" * 30)\n"
   ]
  },
  {
   "cell_type": "code",
   "execution_count": 15,
   "id": "b9bde966-71b5-4f56-8721-b742c0773090",
   "metadata": {},
   "outputs": [
    {
     "name": "stdout",
     "output_type": "stream",
     "text": [
      "ID/Index-related columns present:\n",
      "['id1', 'id2', 'id3', 'id4', 'id5', 'id9', 'id10', 'id11', 'id8', 'id12', 'id13,,,', 'id6', 'id7']\n",
      "id1: unique=770164, missing=0\n",
      "id2: unique=46550, missing=0\n",
      "id3: unique=757, missing=0\n",
      "id4: unique=763371, missing=0\n",
      "id5: unique=3, missing=0\n",
      "id9: unique=400, missing=202372\n",
      "id10: unique=2, missing=202372\n",
      "id11: unique=0, missing=770164\n",
      "id8: unique=136, missing=203624\n",
      "id12: unique=104, missing=202372\n",
      "id13,,,: unique=115, missing=202372\n",
      "id6: unique=0, missing=770164\n",
      "id7: unique=0, missing=770164\n"
     ]
    }
   ],
   "source": [
    "id_columns = [c for c in train.columns if \"id\" in c.lower() or c.startswith(\"Unnamed\")]\n",
    "print(\"ID/Index-related columns present:\")\n",
    "print(id_columns)\n",
    "\n",
    "# Check if any ID columns have unique or near-unique values\n",
    "for c in id_columns:\n",
    "    print(f\"{c}: unique={train[c].nunique()}, missing={train[c].isnull().sum()}\")"
   ]
  },
  {
   "cell_type": "code",
   "execution_count": 16,
   "id": "f8e6fddf-ca12-43af-aac4-9145d8d21701",
   "metadata": {},
   "outputs": [
    {
     "name": "stdout",
     "output_type": "stream",
     "text": [
      "Decay/Ratio columns:\n",
      "[]\n"
     ]
    }
   ],
   "source": [
    "decay_cols = [col for col in train.columns if \"decay\" in col or \"ratio\" in col]\n",
    "print(\"Decay/Ratio columns:\")\n",
    "print(decay_cols)"
   ]
  },
  {
   "cell_type": "code",
   "execution_count": 18,
   "id": "dd0d05af-344b-4be9-b40a-d3e0f1ec62c8",
   "metadata": {},
   "outputs": [
    {
     "name": "stdout",
     "output_type": "stream",
     "text": [
      "Shape of DataFrame: (770164, 385)\n",
      "Shape of DataFrame: (369301, 384)\n",
      "Total memory usage (MB): 2872.03\n"
     ]
    }
   ],
   "source": [
    "print(\"Shape of DataFrame:\", train.shape)\n",
    "print(\"Shape of DataFrame:\", test.shape)\n",
    "print(f\"Total memory usage (MB): {train.memory_usage(deep=True).sum() / 1024**2:.2f}\")"
   ]
  },
  {
   "cell_type": "code",
   "execution_count": 19,
   "id": "52584b0e-abcc-4532-b05a-6933c9268aaf",
   "metadata": {},
   "outputs": [],
   "source": [
    "null_drop = ['f112', 'f122', 'f135', 'f136', 'f377', 'id11', 'id6', 'id7']\n",
    "train = train.drop(columns=null_drop)\n",
    "test = test.drop(columns=[col for col in null_drop if col in test.columns])"
   ]
  },
  {
   "cell_type": "code",
   "execution_count": 20,
   "id": "86f87f9b-a496-4cef-a9b1-49de04b1dfa5",
   "metadata": {},
   "outputs": [],
   "source": [
    "# Drop highly sparse columns automatically (other than engineered, high-impact business features)\n",
    "thresh = 0.8\n",
    "sparse_cols = train.columns[train.isnull().mean() > thresh].tolist()\n",
    "sparse_cols = [c for c in sparse_cols if c not in ['id1', 'id2', 'id3', 'id4', 'id5']]\n",
    "train = train.drop(columns=sparse_cols)\n",
    "test = test.drop(columns=[col for col in sparse_cols if col in test.columns])"
   ]
  },
  {
   "cell_type": "code",
   "execution_count": 21,
   "id": "a5bae8e6-7c91-40d3-9732-a58c6df73744",
   "metadata": {},
   "outputs": [
    {
     "data": {
      "text/plain": [
       "['f3',\n",
       " 'f4',\n",
       " 'f13',\n",
       " 'f14',\n",
       " 'f15',\n",
       " 'f16',\n",
       " 'f17',\n",
       " 'f18',\n",
       " 'f19',\n",
       " 'f20',\n",
       " 'f21',\n",
       " 'f33',\n",
       " 'f34',\n",
       " 'f36',\n",
       " 'f37',\n",
       " 'f64',\n",
       " 'f66',\n",
       " 'f70',\n",
       " 'f79',\n",
       " 'f80',\n",
       " 'f81',\n",
       " 'f84',\n",
       " 'f88',\n",
       " 'f92',\n",
       " 'f114',\n",
       " 'f117',\n",
       " 'f118',\n",
       " 'f120',\n",
       " 'f121',\n",
       " 'f154',\n",
       " 'f176',\n",
       " 'f189',\n",
       " 'f205',\n",
       " 'f220',\n",
       " 'f221',\n",
       " 'f360',\n",
       " 'f376']"
      ]
     },
     "execution_count": 21,
     "metadata": {},
     "output_type": "execute_result"
    }
   ],
   "source": [
    "sparse_cols"
   ]
  },
  {
   "cell_type": "code",
   "execution_count": 22,
   "id": "6d539cf4-ceee-4d91-a74a-40c45cca81c1",
   "metadata": {},
   "outputs": [],
   "source": [
    "from sklearn.preprocessing import LabelEncoder\n",
    "\n",
    "num_cols = train.select_dtypes(include=['float64', 'int64']).columns\n",
    "cat_cols = train.select_dtypes(include='object').columns\n",
    "\n",
    "for col in num_cols:\n",
    "    if col not in ['y']:  # Don't impute target!\n",
    "        median_val = train[col].median()\n",
    "        train[col] = train[col].fillna(median_val)\n",
    "        if col in test.columns:\n",
    "            test[col] = test[col].fillna(median_val)\n",
    "\n",
    "for col in cat_cols:\n",
    "    train[col] = train[col].fillna('missing')\n",
    "    if col in test.columns:\n",
    "        test[col] = test[col].fillna('missing')"
   ]
  },
  {
   "cell_type": "code",
   "execution_count": 23,
   "id": "6a719d36-284c-4223-89b1-498ff1bc96db",
   "metadata": {},
   "outputs": [],
   "source": [
    "id_columns = ['id1', 'id2', 'id3','id5']  # adjust as needed; don't encode IDs!\n",
    "target_col = 'y'\n",
    "\n",
    "# Drop id columns and target for feature matrix\n",
    "X = train.drop(columns=[*id_columns, target_col], errors='ignore')\n",
    "X_test = test.drop(columns=id_columns, errors='ignore')\n",
    "\n",
    "# Find object (categorical) columns to encode\n",
    "cat_cols = X.select_dtypes(include='object').columns\n",
    "\n",
    "# Fit LabelEncoder on the union of train and test for each categorical col\n",
    "for col in cat_cols:\n",
    "    combined_values = pd.concat([X[col], X_test[col]], axis=0).astype(str)\n",
    "    le = LabelEncoder()\n",
    "    le.fit(combined_values)\n",
    "    X[col] = le.transform(X[col].astype(str))\n",
    "    X_test[col] = le.transform(X_test[col].astype(str))"
   ]
  },
  {
   "cell_type": "code",
   "execution_count": 24,
   "id": "460f5df1-7282-455e-a55e-86fddd5ed1ae",
   "metadata": {},
   "outputs": [],
   "source": [
    "num_cols = X.select_dtypes(include=[np.number]).columns\n",
    "for col in num_cols:\n",
    "    if col not in ['target']:  # don't cap the target/label\n",
    "        lower = X[col].quantile(0.01)\n",
    "        upper = X[col].quantile(0.99)\n",
    "        X[col] = X[col].clip(lower, upper)\n",
    "        # Also do it for test, but use training quantiles for consistency\n",
    "        if col in X_test.columns:\n",
    "            X_test[col] = X_test[col].clip(lower, upper)"
   ]
  },
  {
   "cell_type": "code",
   "execution_count": 25,
   "id": "fb9f966b-4fff-47e1-a00b-f08053255b4f",
   "metadata": {},
   "outputs": [],
   "source": [
    "feature_cols = [col for col in X.columns if col != 'target']"
   ]
  },
  {
   "cell_type": "code",
   "execution_count": 26,
   "id": "0cfd47cf-0f2e-4503-9e6f-5cd7e49b9031",
   "metadata": {},
   "outputs": [],
   "source": [
    "from sklearn.model_selection import train_test_split\n",
    "\n",
    "y = train['y']\n",
    "X_train, X_val, y_train, y_val = train_test_split(\n",
    "    X, y, test_size=0.2, stratify=y, random_state=42\n",
    ")"
   ]
  },
  {
   "cell_type": "code",
   "execution_count": 27,
   "id": "09ee83ff-bca6-4843-81f7-15e5ca62679f",
   "metadata": {},
   "outputs": [
    {
     "name": "stdout",
     "output_type": "stream",
     "text": [
      "<class 'pandas.core.frame.DataFrame'>\n",
      "RangeIndex: 770164 entries, 0 to 770163\n",
      "Columns: 335 entries, id4 to id13,,,\n",
      "dtypes: float64(319), int64(16)\n",
      "memory usage: 1.9 GB\n"
     ]
    }
   ],
   "source": [
    "X.info()"
   ]
  },
  {
   "cell_type": "code",
   "execution_count": 28,
   "id": "34f727fd-ae56-4e81-9b9d-747a4bfe9978",
   "metadata": {},
   "outputs": [
    {
     "name": "stdout",
     "output_type": "stream",
     "text": [
      "<class 'pandas.core.frame.DataFrame'>\n",
      "RangeIndex: 369301 entries, 0 to 369300\n",
      "Columns: 335 entries, id4 to id13,,,\n",
      "dtypes: float64(319), int64(16)\n",
      "memory usage: 943.9 MB\n"
     ]
    }
   ],
   "source": [
    "X_test.info()"
   ]
  },
  {
   "cell_type": "code",
   "execution_count": 29,
   "id": "7ff0ece0-558b-4e52-beb2-3cdba1d5c4a8",
   "metadata": {},
   "outputs": [],
   "source": [
    "possible_interest_cols = ['f1','f2','f5','f6','f7','f8','f9','f10','f11','f12', 'f13','f14','f15','f16','f17','f18','f19','f20','f21','f22','f23','f24','f25','f26','f27']\n",
    "interest_cols = [col for col in possible_interest_cols if col in X.columns]\n",
    "interest_cols = [c for c in interest_cols if c in X_test.columns]"
   ]
  },
  {
   "cell_type": "code",
   "execution_count": 30,
   "id": "ca7e3521-f916-4e00-b593-ebb567eccd9e",
   "metadata": {},
   "outputs": [
    {
     "name": "stderr",
     "output_type": "stream",
     "text": [
      "C:\\Users\\arpit\\AppData\\Local\\Temp\\ipykernel_25196\\2198707548.py:2: PerformanceWarning: DataFrame is highly fragmented.  This is usually the result of calling `frame.insert` many times, which has poor performance.  Consider joining all columns at once using pd.concat(axis=1) instead. To get a de-fragmented frame, use `newframe = frame.copy()`\n",
      "  X['interest_mean'] = X[interest_cols].mean(axis=1)\n",
      "C:\\Users\\arpit\\AppData\\Local\\Temp\\ipykernel_25196\\2198707548.py:3: PerformanceWarning: DataFrame is highly fragmented.  This is usually the result of calling `frame.insert` many times, which has poor performance.  Consider joining all columns at once using pd.concat(axis=1) instead. To get a de-fragmented frame, use `newframe = frame.copy()`\n",
      "  X['interest_max'] = X[interest_cols].max(axis=1)\n",
      "C:\\Users\\arpit\\AppData\\Local\\Temp\\ipykernel_25196\\2198707548.py:4: PerformanceWarning: DataFrame is highly fragmented.  This is usually the result of calling `frame.insert` many times, which has poor performance.  Consider joining all columns at once using pd.concat(axis=1) instead. To get a de-fragmented frame, use `newframe = frame.copy()`\n",
      "  X['interest_min'] = X[interest_cols].min(axis=1)\n",
      "C:\\Users\\arpit\\AppData\\Local\\Temp\\ipykernel_25196\\2198707548.py:5: PerformanceWarning: DataFrame is highly fragmented.  This is usually the result of calling `frame.insert` many times, which has poor performance.  Consider joining all columns at once using pd.concat(axis=1) instead. To get a de-fragmented frame, use `newframe = frame.copy()`\n",
      "  X['interest_std'] = X[interest_cols].std(axis=1)\n",
      "C:\\Users\\arpit\\AppData\\Local\\Temp\\ipykernel_25196\\2198707548.py:6: PerformanceWarning: DataFrame is highly fragmented.  This is usually the result of calling `frame.insert` many times, which has poor performance.  Consider joining all columns at once using pd.concat(axis=1) instead. To get a de-fragmented frame, use `newframe = frame.copy()`\n",
      "  X['interest_sum'] = X[interest_cols].sum(axis=1)\n",
      "C:\\Users\\arpit\\AppData\\Local\\Temp\\ipykernel_25196\\2198707548.py:7: PerformanceWarning: DataFrame is highly fragmented.  This is usually the result of calling `frame.insert` many times, which has poor performance.  Consider joining all columns at once using pd.concat(axis=1) instead. To get a de-fragmented frame, use `newframe = frame.copy()`\n",
      "  X['interest_delta_coffee_airlines'] = X['f2'] - X['f9']  # example: coffee vs airlines interest\n"
     ]
    }
   ],
   "source": [
    "# INTEREST SCORE CLUBBING\n",
    "X['interest_mean'] = X[interest_cols].mean(axis=1)\n",
    "X['interest_max'] = X[interest_cols].max(axis=1)\n",
    "X['interest_min'] = X[interest_cols].min(axis=1)\n",
    "X['interest_std'] = X[interest_cols].std(axis=1)\n",
    "X['interest_sum'] = X[interest_cols].sum(axis=1)\n",
    "X['interest_delta_coffee_airlines'] = X['f2'] - X['f9']  # example: coffee vs airlines interest"
   ]
  },
  {
   "cell_type": "code",
   "execution_count": 31,
   "id": "0dc36838-8292-413a-864b-f0166cde1aae",
   "metadata": {},
   "outputs": [
    {
     "name": "stderr",
     "output_type": "stream",
     "text": [
      "C:\\Users\\arpit\\AppData\\Local\\Temp\\ipykernel_25196\\504204859.py:1: PerformanceWarning: DataFrame is highly fragmented.  This is usually the result of calling `frame.insert` many times, which has poor performance.  Consider joining all columns at once using pd.concat(axis=1) instead. To get a de-fragmented frame, use `newframe = frame.copy()`\n",
      "  X_test['interest_mean']  = X_test[interest_cols].mean(axis=1)\n",
      "C:\\Users\\arpit\\AppData\\Local\\Temp\\ipykernel_25196\\504204859.py:2: PerformanceWarning: DataFrame is highly fragmented.  This is usually the result of calling `frame.insert` many times, which has poor performance.  Consider joining all columns at once using pd.concat(axis=1) instead. To get a de-fragmented frame, use `newframe = frame.copy()`\n",
      "  X_test['interest_max']   = X_test[interest_cols].max(axis=1)\n",
      "C:\\Users\\arpit\\AppData\\Local\\Temp\\ipykernel_25196\\504204859.py:3: PerformanceWarning: DataFrame is highly fragmented.  This is usually the result of calling `frame.insert` many times, which has poor performance.  Consider joining all columns at once using pd.concat(axis=1) instead. To get a de-fragmented frame, use `newframe = frame.copy()`\n",
      "  X_test['interest_min']   = X_test[interest_cols].min(axis=1)\n",
      "C:\\Users\\arpit\\AppData\\Local\\Temp\\ipykernel_25196\\504204859.py:4: PerformanceWarning: DataFrame is highly fragmented.  This is usually the result of calling `frame.insert` many times, which has poor performance.  Consider joining all columns at once using pd.concat(axis=1) instead. To get a de-fragmented frame, use `newframe = frame.copy()`\n",
      "  X_test['interest_std']   = X_test[interest_cols].std(axis=1)\n",
      "C:\\Users\\arpit\\AppData\\Local\\Temp\\ipykernel_25196\\504204859.py:5: PerformanceWarning: DataFrame is highly fragmented.  This is usually the result of calling `frame.insert` many times, which has poor performance.  Consider joining all columns at once using pd.concat(axis=1) instead. To get a de-fragmented frame, use `newframe = frame.copy()`\n",
      "  X_test['interest_sum']   = X_test[interest_cols].sum(axis=1)\n",
      "C:\\Users\\arpit\\AppData\\Local\\Temp\\ipykernel_25196\\504204859.py:6: PerformanceWarning: DataFrame is highly fragmented.  This is usually the result of calling `frame.insert` many times, which has poor performance.  Consider joining all columns at once using pd.concat(axis=1) instead. To get a de-fragmented frame, use `newframe = frame.copy()`\n",
      "  X_test['interest_delta_coffee_airlines'] = X_test['f2'] - X_test['f9']\n"
     ]
    }
   ],
   "source": [
    "X_test['interest_mean']  = X_test[interest_cols].mean(axis=1)\n",
    "X_test['interest_max']   = X_test[interest_cols].max(axis=1)\n",
    "X_test['interest_min']   = X_test[interest_cols].min(axis=1)\n",
    "X_test['interest_std']   = X_test[interest_cols].std(axis=1)\n",
    "X_test['interest_sum']   = X_test[interest_cols].sum(axis=1)\n",
    "X_test['interest_delta_coffee_airlines'] = X_test['f2'] - X_test['f9']"
   ]
  },
  {
   "cell_type": "code",
   "execution_count": 32,
   "id": "b8db4b97-2f69-4f13-937c-3a4297606654",
   "metadata": {},
   "outputs": [
    {
     "name": "stdout",
     "output_type": "stream",
     "text": [
      "<class 'pandas.core.frame.DataFrame'>\n",
      "RangeIndex: 770164 entries, 0 to 770163\n",
      "Columns: 341 entries, id4 to interest_delta_coffee_airlines\n",
      "dtypes: float64(325), int64(16)\n",
      "memory usage: 2.0 GB\n"
     ]
    }
   ],
   "source": [
    "X.info()"
   ]
  },
  {
   "cell_type": "code",
   "execution_count": 33,
   "id": "8aafdb65-ce43-4031-b67e-db5654f4e19d",
   "metadata": {},
   "outputs": [
    {
     "name": "stdout",
     "output_type": "stream",
     "text": [
      "<class 'pandas.core.frame.DataFrame'>\n",
      "RangeIndex: 369301 entries, 0 to 369300\n",
      "Columns: 341 entries, id4 to interest_delta_coffee_airlines\n",
      "dtypes: float64(325), int64(16)\n",
      "memory usage: 960.8 MB\n"
     ]
    }
   ],
   "source": [
    "X_test.info()"
   ]
  },
  {
   "cell_type": "code",
   "execution_count": 34,
   "id": "1187ddea-a85e-4e5f-a177-3a18cf94dfc9",
   "metadata": {},
   "outputs": [
    {
     "name": "stderr",
     "output_type": "stream",
     "text": [
      "C:\\Users\\arpit\\AppData\\Local\\Temp\\ipykernel_25196\\2968614027.py:2: PerformanceWarning: DataFrame is highly fragmented.  This is usually the result of calling `frame.insert` many times, which has poor performance.  Consider joining all columns at once using pd.concat(axis=1) instead. To get a de-fragmented frame, use `newframe = frame.copy()`\n",
      "  X['total_time_ratio'] = X['f59'] / (X['f68'] + 1)  # total time 30d / 180d\n",
      "C:\\Users\\arpit\\AppData\\Local\\Temp\\ipykernel_25196\\2968614027.py:3: PerformanceWarning: DataFrame is highly fragmented.  This is usually the result of calling `frame.insert` many times, which has poor performance.  Consider joining all columns at once using pd.concat(axis=1) instead. To get a de-fragmented frame, use `newframe = frame.copy()`\n",
      "  X['acq_time_ratio'] = X['f60'] / (X['f69'] + 1)\n",
      "C:\\Users\\arpit\\AppData\\Local\\Temp\\ipykernel_25196\\2968614027.py:4: PerformanceWarning: DataFrame is highly fragmented.  This is usually the result of calling `frame.insert` many times, which has poor performance.  Consider joining all columns at once using pd.concat(axis=1) instead. To get a de-fragmented frame, use `newframe = frame.copy()`\n",
      "  X['travel_time_ratio'] = X['f65'] / (X['f74'] + 1)\n"
     ]
    }
   ],
   "source": [
    "# TIME-BASED RATIOS & TRENDS\n",
    "X['total_time_ratio'] = X['f59'] / (X['f68'] + 1)  # total time 30d / 180d\n",
    "X['acq_time_ratio'] = X['f60'] / (X['f69'] + 1)\n",
    "X['travel_time_ratio'] = X['f65'] / (X['f74'] + 1)"
   ]
  },
  {
   "cell_type": "code",
   "execution_count": 35,
   "id": "5849ff8e-b2d6-42e4-b4c3-75398f732d1a",
   "metadata": {},
   "outputs": [
    {
     "name": "stderr",
     "output_type": "stream",
     "text": [
      "C:\\Users\\arpit\\AppData\\Local\\Temp\\ipykernel_25196\\4186668515.py:2: PerformanceWarning: DataFrame is highly fragmented.  This is usually the result of calling `frame.insert` many times, which has poor performance.  Consider joining all columns at once using pd.concat(axis=1) instead. To get a de-fragmented frame, use `newframe = frame.copy()`\n",
      "  X_test['total_time_ratio'] = X_test['f59'] / (X_test['f68'] + 1)  # total time 30d / 180d\n",
      "C:\\Users\\arpit\\AppData\\Local\\Temp\\ipykernel_25196\\4186668515.py:3: PerformanceWarning: DataFrame is highly fragmented.  This is usually the result of calling `frame.insert` many times, which has poor performance.  Consider joining all columns at once using pd.concat(axis=1) instead. To get a de-fragmented frame, use `newframe = frame.copy()`\n",
      "  X_test['acq_time_ratio'] = X_test['f60'] / (X_test['f69'] + 1)\n",
      "C:\\Users\\arpit\\AppData\\Local\\Temp\\ipykernel_25196\\4186668515.py:4: PerformanceWarning: DataFrame is highly fragmented.  This is usually the result of calling `frame.insert` many times, which has poor performance.  Consider joining all columns at once using pd.concat(axis=1) instead. To get a de-fragmented frame, use `newframe = frame.copy()`\n",
      "  X_test['travel_time_ratio'] = X_test['f65'] / (X_test['f74'] + 1)\n"
     ]
    }
   ],
   "source": [
    "# FOR TEST\n",
    "X_test['total_time_ratio'] = X_test['f59'] / (X_test['f68'] + 1)  # total time 30d / 180d\n",
    "X_test['acq_time_ratio'] = X_test['f60'] / (X_test['f69'] + 1)\n",
    "X_test['travel_time_ratio'] = X_test['f65'] / (X_test['f74'] + 1)"
   ]
  },
  {
   "cell_type": "code",
   "execution_count": 36,
   "id": "4c9450af-1851-480d-b3af-edacce0c00ad",
   "metadata": {},
   "outputs": [],
   "source": [
    "Column_to_drop =['f59','f68','f60','f69','f65','f74']"
   ]
  },
  {
   "cell_type": "code",
   "execution_count": 37,
   "id": "290f8710-cd1f-4cdc-a023-5ac848fcbced",
   "metadata": {},
   "outputs": [
    {
     "name": "stdout",
     "output_type": "stream",
     "text": [
      "<class 'pandas.core.frame.DataFrame'>\n",
      "RangeIndex: 770164 entries, 0 to 770163\n",
      "Columns: 344 entries, id4 to travel_time_ratio\n",
      "dtypes: float64(328), int64(16)\n",
      "memory usage: 2.0 GB\n"
     ]
    }
   ],
   "source": [
    "X.info()"
   ]
  },
  {
   "cell_type": "code",
   "execution_count": 38,
   "id": "17dd6eb6-1fe9-478a-bf63-e15568635ac6",
   "metadata": {},
   "outputs": [
    {
     "name": "stdout",
     "output_type": "stream",
     "text": [
      "<class 'pandas.core.frame.DataFrame'>\n",
      "RangeIndex: 369301 entries, 0 to 369300\n",
      "Columns: 344 entries, id4 to travel_time_ratio\n",
      "dtypes: float64(328), int64(16)\n",
      "memory usage: 969.2 MB\n"
     ]
    }
   ],
   "source": [
    "X_test.info()"
   ]
  },
  {
   "cell_type": "code",
   "execution_count": 39,
   "id": "76a901ac-362e-44cc-a504-36e4ab17cc6a",
   "metadata": {},
   "outputs": [
    {
     "name": "stderr",
     "output_type": "stream",
     "text": [
      "C:\\Users\\arpit\\AppData\\Local\\Temp\\ipykernel_25196\\3445344186.py:2: PerformanceWarning: DataFrame is highly fragmented.  This is usually the result of calling `frame.insert` many times, which has poor performance.  Consider joining all columns at once using pd.concat(axis=1) instead. To get a de-fragmented frame, use `newframe = frame.copy()`\n",
      "  X['ctr_1d_3d_ratio'] = X['f310'] / (X['f311'] + 1)\n",
      "C:\\Users\\arpit\\AppData\\Local\\Temp\\ipykernel_25196\\3445344186.py:3: PerformanceWarning: DataFrame is highly fragmented.  This is usually the result of calling `frame.insert` many times, which has poor performance.  Consider joining all columns at once using pd.concat(axis=1) instead. To get a de-fragmented frame, use `newframe = frame.copy()`\n",
      "  X['ctr_7d_30d_ratio'] = X['f312'] / (X['f314'] + 1)\n",
      "C:\\Users\\arpit\\AppData\\Local\\Temp\\ipykernel_25196\\3445344186.py:4: PerformanceWarning: DataFrame is highly fragmented.  This is usually the result of calling `frame.insert` many times, which has poor performance.  Consider joining all columns at once using pd.concat(axis=1) instead. To get a de-fragmented frame, use `newframe = frame.copy()`\n",
      "  X['clicks_30d_7d_ratio'] = X['f319'] / (X['f317'] + 1)\n",
      "C:\\Users\\arpit\\AppData\\Local\\Temp\\ipykernel_25196\\3445344186.py:5: PerformanceWarning: DataFrame is highly fragmented.  This is usually the result of calling `frame.insert` many times, which has poor performance.  Consider joining all columns at once using pd.concat(axis=1) instead. To get a de-fragmented frame, use `newframe = frame.copy()`\n",
      "  X['imps_30d_7d_ratio'] = X['f324'] / (X['f322'] + 1)\n"
     ]
    }
   ],
   "source": [
    "# IMPRESSIONS/CLICKS/CTR VELOCITY\n",
    "X['ctr_1d_3d_ratio'] = X['f310'] / (X['f311'] + 1)\n",
    "X['ctr_7d_30d_ratio'] = X['f312'] / (X['f314'] + 1)\n",
    "X['clicks_30d_7d_ratio'] = X['f319'] / (X['f317'] + 1)\n",
    "X['imps_30d_7d_ratio'] = X['f324'] / (X['f322'] + 1)"
   ]
  },
  {
   "cell_type": "code",
   "execution_count": 40,
   "id": "a75bcadc-3893-4a76-b127-22fc439432fc",
   "metadata": {},
   "outputs": [
    {
     "name": "stderr",
     "output_type": "stream",
     "text": [
      "C:\\Users\\arpit\\AppData\\Local\\Temp\\ipykernel_25196\\3962128969.py:2: PerformanceWarning: DataFrame is highly fragmented.  This is usually the result of calling `frame.insert` many times, which has poor performance.  Consider joining all columns at once using pd.concat(axis=1) instead. To get a de-fragmented frame, use `newframe = frame.copy()`\n",
      "  X_test['ctr_1d_3d_ratio'] = X_test['f310'] / (X_test['f311'] + 1)\n",
      "C:\\Users\\arpit\\AppData\\Local\\Temp\\ipykernel_25196\\3962128969.py:3: PerformanceWarning: DataFrame is highly fragmented.  This is usually the result of calling `frame.insert` many times, which has poor performance.  Consider joining all columns at once using pd.concat(axis=1) instead. To get a de-fragmented frame, use `newframe = frame.copy()`\n",
      "  X_test['ctr_7d_30d_ratio'] = X_test['f312'] / (X_test['f314'] + 1)\n",
      "C:\\Users\\arpit\\AppData\\Local\\Temp\\ipykernel_25196\\3962128969.py:4: PerformanceWarning: DataFrame is highly fragmented.  This is usually the result of calling `frame.insert` many times, which has poor performance.  Consider joining all columns at once using pd.concat(axis=1) instead. To get a de-fragmented frame, use `newframe = frame.copy()`\n",
      "  X_test['clicks_30d_7d_ratio'] = X_test['f319'] / (X_test['f317'] + 1)\n",
      "C:\\Users\\arpit\\AppData\\Local\\Temp\\ipykernel_25196\\3962128969.py:5: PerformanceWarning: DataFrame is highly fragmented.  This is usually the result of calling `frame.insert` many times, which has poor performance.  Consider joining all columns at once using pd.concat(axis=1) instead. To get a de-fragmented frame, use `newframe = frame.copy()`\n",
      "  X_test['imps_30d_7d_ratio'] = X_test['f324'] / (X_test['f322'] + 1)\n"
     ]
    }
   ],
   "source": [
    "# FOR TEST\n",
    "X_test['ctr_1d_3d_ratio'] = X_test['f310'] / (X_test['f311'] + 1)\n",
    "X_test['ctr_7d_30d_ratio'] = X_test['f312'] / (X_test['f314'] + 1)\n",
    "X_test['clicks_30d_7d_ratio'] = X_test['f319'] / (X_test['f317'] + 1)\n",
    "X_test['imps_30d_7d_ratio'] = X_test['f324'] / (X_test['f322'] + 1)"
   ]
  },
  {
   "cell_type": "code",
   "execution_count": 41,
   "id": "8634ed89-f515-41f2-92b5-d63deb4ecf43",
   "metadata": {},
   "outputs": [],
   "source": [
    "Column_to_drop.extend(['f310', 'f311', 'f312', 'f314', 'f319', 'f317', 'f324', 'f322'])"
   ]
  },
  {
   "cell_type": "code",
   "execution_count": 42,
   "id": "07d9c856-2b37-416b-96da-ff5360800d81",
   "metadata": {},
   "outputs": [
    {
     "data": {
      "text/plain": [
       "['f59',\n",
       " 'f68',\n",
       " 'f60',\n",
       " 'f69',\n",
       " 'f65',\n",
       " 'f74',\n",
       " 'f310',\n",
       " 'f311',\n",
       " 'f312',\n",
       " 'f314',\n",
       " 'f319',\n",
       " 'f317',\n",
       " 'f324',\n",
       " 'f322']"
      ]
     },
     "execution_count": 42,
     "metadata": {},
     "output_type": "execute_result"
    }
   ],
   "source": [
    "Column_to_drop"
   ]
  },
  {
   "cell_type": "code",
   "execution_count": 43,
   "id": "35a4964f-0f60-4355-acdb-6c8a71138501",
   "metadata": {},
   "outputs": [
    {
     "name": "stderr",
     "output_type": "stream",
     "text": [
      "C:\\Users\\arpit\\AppData\\Local\\Temp\\ipykernel_25196\\2926993021.py:4: PerformanceWarning: DataFrame is highly fragmented.  This is usually the result of calling `frame.insert` many times, which has poor performance.  Consider joining all columns at once using pd.concat(axis=1) instead. To get a de-fragmented frame, use `newframe = frame.copy()`\n",
      "  X['lifestyle_spend_change'] = (X['f39'] - X['f163']) / (X['f163'] + 1)\n",
      "C:\\Users\\arpit\\AppData\\Local\\Temp\\ipykernel_25196\\2926993021.py:5: PerformanceWarning: DataFrame is highly fragmented.  This is usually the result of calling `frame.insert` many times, which has poor performance.  Consider joining all columns at once using pd.concat(axis=1) instead. To get a de-fragmented frame, use `newframe = frame.copy()`\n",
      "  X['electronics_spend_change'] = (X['f40'] - X['f164']) / (X['f164'] + 1)\n",
      "C:\\Users\\arpit\\AppData\\Local\\Temp\\ipykernel_25196\\2926993021.py:6: PerformanceWarning: DataFrame is highly fragmented.  This is usually the result of calling `frame.insert` many times, which has poor performance.  Consider joining all columns at once using pd.concat(axis=1) instead. To get a de-fragmented frame, use `newframe = frame.copy()`\n",
      "  X['restaurant_spend_change'] = (X['f41'] - X['f179']) / (X['f179'] + 1)\n",
      "C:\\Users\\arpit\\AppData\\Local\\Temp\\ipykernel_25196\\2926993021.py:7: PerformanceWarning: DataFrame is highly fragmented.  This is usually the result of calling `frame.insert` many times, which has poor performance.  Consider joining all columns at once using pd.concat(axis=1) instead. To get a de-fragmented frame, use `newframe = frame.copy()`\n",
      "  X['retail_shopping_spend_sum'] = X['f158'] + X['f169']  # retail+shopping\n"
     ]
    }
   ],
   "source": [
    "# SPEND/TXN CHANGE & COMBINED FIELDS\n",
    "#spend_cols_30d = ['f39','f40','f41']\n",
    "#spend_cols_180d = ['f163','f164','f169']  # match columns based on dictionary\n",
    "X['lifestyle_spend_change'] = (X['f39'] - X['f163']) / (X['f163'] + 1)\n",
    "X['electronics_spend_change'] = (X['f40'] - X['f164']) / (X['f164'] + 1)\n",
    "X['restaurant_spend_change'] = (X['f41'] - X['f179']) / (X['f179'] + 1)\n",
    "X['retail_shopping_spend_sum'] = X['f158'] + X['f169']  # retail+shopping"
   ]
  },
  {
   "cell_type": "code",
   "execution_count": 44,
   "id": "975bb257-e41f-4fca-a881-12448c533313",
   "metadata": {},
   "outputs": [
    {
     "name": "stderr",
     "output_type": "stream",
     "text": [
      "C:\\Users\\arpit\\AppData\\Local\\Temp\\ipykernel_25196\\1948751704.py:4: PerformanceWarning: DataFrame is highly fragmented.  This is usually the result of calling `frame.insert` many times, which has poor performance.  Consider joining all columns at once using pd.concat(axis=1) instead. To get a de-fragmented frame, use `newframe = frame.copy()`\n",
      "  X_test['lifestyle_spend_change'] = (X_test['f39'] - X_test['f163']) / (X_test['f163'] + 1)\n",
      "C:\\Users\\arpit\\AppData\\Local\\Temp\\ipykernel_25196\\1948751704.py:5: PerformanceWarning: DataFrame is highly fragmented.  This is usually the result of calling `frame.insert` many times, which has poor performance.  Consider joining all columns at once using pd.concat(axis=1) instead. To get a de-fragmented frame, use `newframe = frame.copy()`\n",
      "  X_test['electronics_spend_change'] = (X_test['f40'] - X_test['f164']) / (X_test['f164'] + 1)\n",
      "C:\\Users\\arpit\\AppData\\Local\\Temp\\ipykernel_25196\\1948751704.py:6: PerformanceWarning: DataFrame is highly fragmented.  This is usually the result of calling `frame.insert` many times, which has poor performance.  Consider joining all columns at once using pd.concat(axis=1) instead. To get a de-fragmented frame, use `newframe = frame.copy()`\n",
      "  X_test['restaurant_spend_change'] = (X_test['f41'] - X_test['f179']) / (X_test['f179'] + 1)\n",
      "C:\\Users\\arpit\\AppData\\Local\\Temp\\ipykernel_25196\\1948751704.py:7: PerformanceWarning: DataFrame is highly fragmented.  This is usually the result of calling `frame.insert` many times, which has poor performance.  Consider joining all columns at once using pd.concat(axis=1) instead. To get a de-fragmented frame, use `newframe = frame.copy()`\n",
      "  X_test['retail_shopping_spend_sum'] = X_test['f158'] + X_test['f169']  # retail+shopping\n"
     ]
    }
   ],
   "source": [
    "# FOR TEST\n",
    "spend_cols_30d = ['f39','f40','f41']\n",
    "spend_cols_180d = ['f163','f164','f169']  # match columns based on dictionary\n",
    "X_test['lifestyle_spend_change'] = (X_test['f39'] - X_test['f163']) / (X_test['f163'] + 1)\n",
    "X_test['electronics_spend_change'] = (X_test['f40'] - X_test['f164']) / (X_test['f164'] + 1)\n",
    "X_test['restaurant_spend_change'] = (X_test['f41'] - X_test['f179']) / (X_test['f179'] + 1)\n",
    "X_test['retail_shopping_spend_sum'] = X_test['f158'] + X_test['f169']  # retail+shopping"
   ]
  },
  {
   "cell_type": "code",
   "execution_count": 45,
   "id": "365c631d-de45-4fdc-8fb6-2ccfeffa1708",
   "metadata": {},
   "outputs": [],
   "source": [
    "Column_to_drop.extend(['f39','f40','f41','f163','f164','f169','f158','f179'])"
   ]
  },
  {
   "cell_type": "code",
   "execution_count": 46,
   "id": "de751280-f31f-470a-a41a-61e3a85c1e4d",
   "metadata": {},
   "outputs": [
    {
     "name": "stdout",
     "output_type": "stream",
     "text": [
      "['acq_time_ratio', 'clicks_30d_7d_ratio', 'ctr_1d_3d_ratio', 'ctr_7d_30d_ratio', 'electronics_spend_change', 'f1', 'f10', 'f100', 'f101', 'f102', 'f103', 'f104', 'f105', 'f106', 'f107', 'f108', 'f109', 'f11', 'f110', 'f111', 'f113', 'f115', 'f116', 'f119', 'f12', 'f123', 'f124', 'f125', 'f126', 'f127', 'f128', 'f129', 'f130', 'f131', 'f132', 'f133', 'f134', 'f137', 'f138', 'f139', 'f140', 'f141', 'f142', 'f143', 'f144', 'f145', 'f146', 'f147', 'f148', 'f149', 'f150', 'f151', 'f152', 'f153', 'f155', 'f156', 'f157', 'f158', 'f159', 'f160', 'f161', 'f162', 'f163', 'f164', 'f165', 'f166', 'f167', 'f168', 'f169', 'f170', 'f171', 'f172', 'f173', 'f174', 'f175', 'f177', 'f178', 'f179', 'f180', 'f181', 'f182', 'f183', 'f184', 'f185', 'f186', 'f187', 'f188', 'f190', 'f191', 'f192', 'f193', 'f194', 'f195', 'f196', 'f197', 'f198', 'f199', 'f2', 'f200', 'f201', 'f202', 'f203', 'f204', 'f206', 'f207', 'f208', 'f209', 'f210', 'f211', 'f212', 'f213', 'f214', 'f215', 'f216', 'f217', 'f218', 'f219', 'f22', 'f222', 'f223', 'f224', 'f225', 'f226', 'f227', 'f228', 'f229', 'f23', 'f230', 'f231', 'f232', 'f233', 'f234', 'f235', 'f236', 'f237', 'f238', 'f239', 'f24', 'f240', 'f241', 'f242', 'f243', 'f244', 'f245', 'f246', 'f247', 'f248', 'f249', 'f25', 'f250', 'f251', 'f252', 'f253', 'f254', 'f255', 'f256', 'f257', 'f258', 'f259', 'f26', 'f260', 'f261', 'f262', 'f263', 'f264', 'f265', 'f266', 'f267', 'f268', 'f269', 'f27', 'f270', 'f271', 'f272', 'f273', 'f274', 'f275', 'f276', 'f277', 'f278', 'f279', 'f28', 'f280', 'f281', 'f282', 'f283', 'f284', 'f285', 'f286', 'f287', 'f288', 'f289', 'f29', 'f290', 'f291', 'f292', 'f293', 'f294', 'f295', 'f296', 'f297', 'f298', 'f299', 'f30', 'f300', 'f301', 'f302', 'f303', 'f304', 'f305', 'f306', 'f307', 'f308', 'f309', 'f31', 'f310', 'f311', 'f312', 'f313', 'f314', 'f315', 'f316', 'f317', 'f318', 'f319', 'f32', 'f320', 'f321', 'f322', 'f323', 'f324', 'f325', 'f326', 'f327', 'f328', 'f329', 'f330', 'f331', 'f332', 'f333', 'f334', 'f335', 'f336', 'f337', 'f338', 'f339', 'f340', 'f341', 'f342', 'f343', 'f344', 'f345', 'f346', 'f347', 'f348', 'f349', 'f35', 'f350', 'f351', 'f352', 'f353', 'f354', 'f355', 'f356', 'f357', 'f358', 'f359', 'f361', 'f362', 'f363', 'f364', 'f365', 'f366', 'f374', 'f375', 'f378', 'f38', 'f39', 'f40', 'f41', 'f42', 'f43', 'f44', 'f45', 'f46', 'f47', 'f48', 'f49', 'f5', 'f50', 'f51', 'f52', 'f53', 'f54', 'f55', 'f56', 'f57', 'f58', 'f59', 'f6', 'f60', 'f61', 'f62', 'f63', 'f65', 'f67', 'f68', 'f69', 'f7', 'f71', 'f72', 'f73', 'f74', 'f75', 'f76', 'f77', 'f78', 'f8', 'f82', 'f83', 'f85', 'f86', 'f87', 'f89', 'f9', 'f90', 'f91', 'f93', 'f94', 'f95', 'f96', 'f97', 'f98', 'f99', 'id10', 'id12', 'id13,,,', 'id4', 'id8', 'id9', 'imps_30d_7d_ratio', 'interest_delta_coffee_airlines', 'interest_max', 'interest_mean', 'interest_min', 'interest_std', 'interest_sum', 'lifestyle_spend_change', 'restaurant_spend_change', 'retail_shopping_spend_sum', 'total_time_ratio', 'travel_time_ratio']\n"
     ]
    }
   ],
   "source": [
    "print(sorted(list(X.columns)))"
   ]
  },
  {
   "cell_type": "code",
   "execution_count": 47,
   "id": "adecb307-3552-4987-bc02-390be19f7103",
   "metadata": {},
   "outputs": [
    {
     "name": "stderr",
     "output_type": "stream",
     "text": [
      "C:\\Users\\arpit\\AppData\\Local\\Temp\\ipykernel_25196\\951392489.py:2: PerformanceWarning: DataFrame is highly fragmented.  This is usually the result of calling `frame.insert` many times, which has poor performance.  Consider joining all columns at once using pd.concat(axis=1) instead. To get a de-fragmented frame, use `newframe = frame.copy()`\n",
      "  X['main_offer_cat_sum'] = X[main_offer_cat_cols].sum(axis=1)\n",
      "C:\\Users\\arpit\\AppData\\Local\\Temp\\ipykernel_25196\\951392489.py:3: PerformanceWarning: DataFrame is highly fragmented.  This is usually the result of calling `frame.insert` many times, which has poor performance.  Consider joining all columns at once using pd.concat(axis=1) instead. To get a de-fragmented frame, use `newframe = frame.copy()`\n",
      "  X['main_offer_cat_argmax'] = X[main_offer_cat_cols].idxmax(axis=1).str.extract('(\\d+)').astype(int)  # index of main category\n"
     ]
    }
   ],
   "source": [
    "main_offer_cat_cols = [f'f{idx}' for idx in range(226, 233) if f'f{idx}' in X.columns]\n",
    "X['main_offer_cat_sum'] = X[main_offer_cat_cols].sum(axis=1)\n",
    "X['main_offer_cat_argmax'] = X[main_offer_cat_cols].idxmax(axis=1).str.extract('(\\d+)').astype(int)  # index of main category"
   ]
  },
  {
   "cell_type": "code",
   "execution_count": 48,
   "id": "5fac643b-168b-4f40-8d29-267a5c9cc39b",
   "metadata": {},
   "outputs": [
    {
     "name": "stderr",
     "output_type": "stream",
     "text": [
      "C:\\Users\\arpit\\AppData\\Local\\Temp\\ipykernel_25196\\2902110304.py:3: PerformanceWarning: DataFrame is highly fragmented.  This is usually the result of calling `frame.insert` many times, which has poor performance.  Consider joining all columns at once using pd.concat(axis=1) instead. To get a de-fragmented frame, use `newframe = frame.copy()`\n",
      "  X_test['main_offer_cat_sum'] = X_test[main_offer_cat_cols].sum(axis=1)\n",
      "C:\\Users\\arpit\\AppData\\Local\\Temp\\ipykernel_25196\\2902110304.py:4: PerformanceWarning: DataFrame is highly fragmented.  This is usually the result of calling `frame.insert` many times, which has poor performance.  Consider joining all columns at once using pd.concat(axis=1) instead. To get a de-fragmented frame, use `newframe = frame.copy()`\n",
      "  X_test['main_offer_cat_argmax'] = X_test[main_offer_cat_cols].idxmax(axis=1).str.extract('(\\d+)').astype(int)  # index of main category\n"
     ]
    }
   ],
   "source": [
    "#FOR TEST\n",
    "main_offer_cat_cols = [f'f{idx}' for idx in range(226, 233) if f'f{idx}' in X_test.columns]\n",
    "X_test['main_offer_cat_sum'] = X_test[main_offer_cat_cols].sum(axis=1)\n",
    "X_test['main_offer_cat_argmax'] = X_test[main_offer_cat_cols].idxmax(axis=1).str.extract('(\\d+)').astype(int)  # index of main category"
   ]
  },
  {
   "cell_type": "code",
   "execution_count": 49,
   "id": "c7b7ad89-92a6-4bc5-b0ea-59a8b1333852",
   "metadata": {},
   "outputs": [],
   "source": [
    "Column_to_drop.extend(['f226','f227','f228','f229','f230','f231','f232','f233'])"
   ]
  },
  {
   "cell_type": "code",
   "execution_count": 50,
   "id": "5b956130-856e-4030-b54d-13c79ffa0a5c",
   "metadata": {},
   "outputs": [
    {
     "name": "stderr",
     "output_type": "stream",
     "text": [
      "C:\\Users\\arpit\\AppData\\Local\\Temp\\ipykernel_25196\\1059331755.py:3: PerformanceWarning: DataFrame is highly fragmented.  This is usually the result of calling `frame.insert` many times, which has poor performance.  Consider joining all columns at once using pd.concat(axis=1) instead. To get a de-fragmented frame, use `newframe = frame.copy()`\n",
      "  X['dining_interest_alignment'] = X['f227'] * X['f8']\n",
      "C:\\Users\\arpit\\AppData\\Local\\Temp\\ipykernel_25196\\1059331755.py:7: PerformanceWarning: DataFrame is highly fragmented.  This is usually the result of calling `frame.insert` many times, which has poor performance.  Consider joining all columns at once using pd.concat(axis=1) instead. To get a de-fragmented frame, use `newframe = frame.copy()`\n",
      "  X['retail_interest_alignment'] = X['f229'] * X['f158']\n",
      "C:\\Users\\arpit\\AppData\\Local\\Temp\\ipykernel_25196\\1059331755.py:11: PerformanceWarning: DataFrame is highly fragmented.  This is usually the result of calling `frame.insert` many times, which has poor performance.  Consider joining all columns at once using pd.concat(axis=1) instead. To get a de-fragmented frame, use `newframe = frame.copy()`\n",
      "  X['travel_interest_alignment'] = X['f232'] * X['f9']\n"
     ]
    }
   ],
   "source": [
    "# Dining: offer is dining AND customer has high restaurant interest\n",
    "if all(f in X.columns for f in ['f227', 'f8']):\n",
    "    X['dining_interest_alignment'] = X['f227'] * X['f8']\n",
    "\n",
    "# Retail: offer is retail AND high retail spend/interest\n",
    "if all(f in X.columns for f in ['f229', 'f158']):\n",
    "    X['retail_interest_alignment'] = X['f229'] * X['f158']\n",
    "\n",
    "# Travel: offer is travel AND customer has airlines/travel interest\n",
    "if all(f in X.columns for f in ['f232', 'f9']):\n",
    "    X['travel_interest_alignment'] = X['f232'] * X['f9']"
   ]
  },
  {
   "cell_type": "code",
   "execution_count": 51,
   "id": "fad59bd8-4577-4e9a-b92f-b317a62ebca9",
   "metadata": {},
   "outputs": [
    {
     "name": "stderr",
     "output_type": "stream",
     "text": [
      "C:\\Users\\arpit\\AppData\\Local\\Temp\\ipykernel_25196\\3283070808.py:3: PerformanceWarning: DataFrame is highly fragmented.  This is usually the result of calling `frame.insert` many times, which has poor performance.  Consider joining all columns at once using pd.concat(axis=1) instead. To get a de-fragmented frame, use `newframe = frame.copy()`\n",
      "  X_test['dining_interest_alignment'] = X_test['f227'] * X_test['f8']\n",
      "C:\\Users\\arpit\\AppData\\Local\\Temp\\ipykernel_25196\\3283070808.py:7: PerformanceWarning: DataFrame is highly fragmented.  This is usually the result of calling `frame.insert` many times, which has poor performance.  Consider joining all columns at once using pd.concat(axis=1) instead. To get a de-fragmented frame, use `newframe = frame.copy()`\n",
      "  X_test['retail_interest_alignment'] = X_test['f229'] * X_test['f158']\n",
      "C:\\Users\\arpit\\AppData\\Local\\Temp\\ipykernel_25196\\3283070808.py:11: PerformanceWarning: DataFrame is highly fragmented.  This is usually the result of calling `frame.insert` many times, which has poor performance.  Consider joining all columns at once using pd.concat(axis=1) instead. To get a de-fragmented frame, use `newframe = frame.copy()`\n",
      "  X_test['travel_interest_alignment'] = X_test['f232'] * X_test['f9']\n"
     ]
    }
   ],
   "source": [
    "# FOR TEST\n",
    "if all(f in X_test.columns for f in ['f227', 'f8']):\n",
    "    X_test['dining_interest_alignment'] = X_test['f227'] * X_test['f8']\n",
    "\n",
    "# Retail: offer is retail AND high retail spend/interest\n",
    "if all(f in X_test.columns for f in ['f229', 'f158']):\n",
    "    X_test['retail_interest_alignment'] = X_test['f229'] * X_test['f158']\n",
    "\n",
    "# Travel: offer is travel AND customer has airlines/travel interest\n",
    "if all(f in X_test.columns for f in ['f232', 'f9']):\n",
    "    X_test['travel_interest_alignment'] = X_test['f232'] * X_test['f9']"
   ]
  },
  {
   "cell_type": "code",
   "execution_count": 52,
   "id": "70a8d829-6ac9-4854-87b1-7a51e1a11498",
   "metadata": {},
   "outputs": [
    {
     "name": "stderr",
     "output_type": "stream",
     "text": [
      "C:\\Users\\arpit\\AppData\\Local\\Temp\\ipykernel_25196\\3500452918.py:1: PerformanceWarning: DataFrame is highly fragmented.  This is usually the result of calling `frame.insert` many times, which has poor performance.  Consider joining all columns at once using pd.concat(axis=1) instead. To get a de-fragmented frame, use `newframe = frame.copy()`\n",
      "  X['is_dining_offer'] = X['f227'] if 'f227' in X.columns else 0\n",
      "C:\\Users\\arpit\\AppData\\Local\\Temp\\ipykernel_25196\\3500452918.py:2: PerformanceWarning: DataFrame is highly fragmented.  This is usually the result of calling `frame.insert` many times, which has poor performance.  Consider joining all columns at once using pd.concat(axis=1) instead. To get a de-fragmented frame, use `newframe = frame.copy()`\n",
      "  X['is_travel_offer'] = X['f232'] if 'f232' in X.columns else 0\n",
      "C:\\Users\\arpit\\AppData\\Local\\Temp\\ipykernel_25196\\3500452918.py:3: PerformanceWarning: DataFrame is highly fragmented.  This is usually the result of calling `frame.insert` many times, which has poor performance.  Consider joining all columns at once using pd.concat(axis=1) instead. To get a de-fragmented frame, use `newframe = frame.copy()`\n",
      "  X['is_retail_offer'] = X['f229'] if 'f229' in X.columns else 0\n",
      "C:\\Users\\arpit\\AppData\\Local\\Temp\\ipykernel_25196\\3500452918.py:4: PerformanceWarning: DataFrame is highly fragmented.  This is usually the result of calling `frame.insert` many times, which has poor performance.  Consider joining all columns at once using pd.concat(axis=1) instead. To get a de-fragmented frame, use `newframe = frame.copy()`\n",
      "  X['is_shopping_offer'] = X['f231'] if 'f231' in X.columns else 0\n"
     ]
    }
   ],
   "source": [
    "X['is_dining_offer'] = X['f227'] if 'f227' in X.columns else 0\n",
    "X['is_travel_offer'] = X['f232'] if 'f232' in X.columns else 0\n",
    "X['is_retail_offer'] = X['f229'] if 'f229' in X.columns else 0\n",
    "X['is_shopping_offer'] = X['f231'] if 'f231' in X.columns else 0"
   ]
  },
  {
   "cell_type": "code",
   "execution_count": 53,
   "id": "13023895-35d2-4d2d-ac8e-ad38f50085ea",
   "metadata": {},
   "outputs": [
    {
     "name": "stderr",
     "output_type": "stream",
     "text": [
      "C:\\Users\\arpit\\AppData\\Local\\Temp\\ipykernel_25196\\4236349827.py:2: PerformanceWarning: DataFrame is highly fragmented.  This is usually the result of calling `frame.insert` many times, which has poor performance.  Consider joining all columns at once using pd.concat(axis=1) instead. To get a de-fragmented frame, use `newframe = frame.copy()`\n",
      "  X_test['is_dining_offer'] = X_test['f227'] if 'f227' in X_test.columns else 0\n",
      "C:\\Users\\arpit\\AppData\\Local\\Temp\\ipykernel_25196\\4236349827.py:3: PerformanceWarning: DataFrame is highly fragmented.  This is usually the result of calling `frame.insert` many times, which has poor performance.  Consider joining all columns at once using pd.concat(axis=1) instead. To get a de-fragmented frame, use `newframe = frame.copy()`\n",
      "  X_test['is_travel_offer'] = X_test['f232'] if 'f232' in X_test.columns else 0\n",
      "C:\\Users\\arpit\\AppData\\Local\\Temp\\ipykernel_25196\\4236349827.py:4: PerformanceWarning: DataFrame is highly fragmented.  This is usually the result of calling `frame.insert` many times, which has poor performance.  Consider joining all columns at once using pd.concat(axis=1) instead. To get a de-fragmented frame, use `newframe = frame.copy()`\n",
      "  X_test['is_retail_offer'] = X_test['f229'] if 'f229' in X_test.columns else 0\n",
      "C:\\Users\\arpit\\AppData\\Local\\Temp\\ipykernel_25196\\4236349827.py:5: PerformanceWarning: DataFrame is highly fragmented.  This is usually the result of calling `frame.insert` many times, which has poor performance.  Consider joining all columns at once using pd.concat(axis=1) instead. To get a de-fragmented frame, use `newframe = frame.copy()`\n",
      "  X_test['is_shopping_offer'] = X_test['f231'] if 'f231' in X_test.columns else 0\n"
     ]
    }
   ],
   "source": [
    "#FOR TEST\n",
    "X_test['is_dining_offer'] = X_test['f227'] if 'f227' in X_test.columns else 0\n",
    "X_test['is_travel_offer'] = X_test['f232'] if 'f232' in X_test.columns else 0\n",
    "X_test['is_retail_offer'] = X_test['f229'] if 'f229' in X_test.columns else 0\n",
    "X_test['is_shopping_offer'] = X_test['f231'] if 'f231' in X_test.columns else 0"
   ]
  },
  {
   "cell_type": "code",
   "execution_count": 54,
   "id": "7da9f376-efcd-4c5d-89af-c70d10a32dea",
   "metadata": {},
   "outputs": [
    {
     "name": "stderr",
     "output_type": "stream",
     "text": [
      "C:\\Users\\arpit\\AppData\\Local\\Temp\\ipykernel_25196\\1628100250.py:2: PerformanceWarning: DataFrame is highly fragmented.  This is usually the result of calling `frame.insert` many times, which has poor performance.  Consider joining all columns at once using pd.concat(axis=1) instead. To get a de-fragmented frame, use `newframe = frame.copy()`\n",
      "  X['hour_of_day'] = X['f168'] // 3600\n",
      "C:\\Users\\arpit\\AppData\\Local\\Temp\\ipykernel_25196\\1628100250.py:4: PerformanceWarning: DataFrame is highly fragmented.  This is usually the result of calling `frame.insert` many times, which has poor performance.  Consider joining all columns at once using pd.concat(axis=1) instead. To get a de-fragmented frame, use `newframe = frame.copy()`\n",
      "  X['is_weekend'] = X['f349'].isin([6,7]).astype(int)\n"
     ]
    }
   ],
   "source": [
    "if 'f168' in X.columns:\n",
    "    X['hour_of_day'] = X['f168'] // 3600\n",
    "if 'f349' in X.columns:\n",
    "    X['is_weekend'] = X['f349'].isin([6,7]).astype(int)"
   ]
  },
  {
   "cell_type": "code",
   "execution_count": 55,
   "id": "d8d00f25-dc00-4766-ad32-4fc6acd60f48",
   "metadata": {},
   "outputs": [
    {
     "name": "stderr",
     "output_type": "stream",
     "text": [
      "C:\\Users\\arpit\\AppData\\Local\\Temp\\ipykernel_25196\\1558867148.py:3: PerformanceWarning: DataFrame is highly fragmented.  This is usually the result of calling `frame.insert` many times, which has poor performance.  Consider joining all columns at once using pd.concat(axis=1) instead. To get a de-fragmented frame, use `newframe = frame.copy()`\n",
      "  X_test['hour_of_day'] = X_test['f168'] // 3600\n",
      "C:\\Users\\arpit\\AppData\\Local\\Temp\\ipykernel_25196\\1558867148.py:5: PerformanceWarning: DataFrame is highly fragmented.  This is usually the result of calling `frame.insert` many times, which has poor performance.  Consider joining all columns at once using pd.concat(axis=1) instead. To get a de-fragmented frame, use `newframe = frame.copy()`\n",
      "  X_test['is_weekend'] = X_test['f349'].isin([6,7]).astype(int)\n"
     ]
    }
   ],
   "source": [
    "#FOR TEST\n",
    "if 'f168' in X_test.columns:\n",
    "    X_test['hour_of_day'] = X_test['f168'] // 3600\n",
    "if 'f349' in X_test.columns:\n",
    "    X_test['is_weekend'] = X_test['f349'].isin([6,7]).astype(int)"
   ]
  },
  {
   "cell_type": "code",
   "execution_count": 56,
   "id": "e3ecddfb-bfcc-4813-b7a6-9d02afe84d5d",
   "metadata": {},
   "outputs": [],
   "source": [
    "Column_to_drop.extend(['f168','f349'])"
   ]
  },
  {
   "cell_type": "code",
   "execution_count": 57,
   "id": "d386290f-f88f-495e-b1aa-ccb29ba27ea0",
   "metadata": {},
   "outputs": [
    {
     "name": "stderr",
     "output_type": "stream",
     "text": [
      "C:\\Users\\arpit\\AppData\\Local\\Temp\\ipykernel_25196\\1716311476.py:2: PerformanceWarning: DataFrame is highly fragmented.  This is usually the result of calling `frame.insert` many times, which has poor performance.  Consider joining all columns at once using pd.concat(axis=1) instead. To get a de-fragmented frame, use `newframe = frame.copy()`\n",
      "  X['decay_click_imp_ratio_14d'] = X['f149'] / (X['f146'] + 1)\n",
      "C:\\Users\\arpit\\AppData\\Local\\Temp\\ipykernel_25196\\1716311476.py:4: PerformanceWarning: DataFrame is highly fragmented.  This is usually the result of calling `frame.insert` many times, which has poor performance.  Consider joining all columns at once using pd.concat(axis=1) instead. To get a de-fragmented frame, use `newframe = frame.copy()`\n",
      "  X['decay_click_imp_ratio_30d'] = X['f199'] / (X['f200'] + 1)\n",
      "C:\\Users\\arpit\\AppData\\Local\\Temp\\ipykernel_25196\\1716311476.py:6: PerformanceWarning: DataFrame is highly fragmented.  This is usually the result of calling `frame.insert` many times, which has poor performance.  Consider joining all columns at once using pd.concat(axis=1) instead. To get a de-fragmented frame, use `newframe = frame.copy()`\n",
      "  X['decay_clicks_14d_180d_ratio'] = X['f149'] / (X['f365'] + 1)\n"
     ]
    }
   ],
   "source": [
    "if all(f in X.columns for f in ['f149', 'f146']):\n",
    "    X['decay_click_imp_ratio_14d'] = X['f149'] / (X['f146'] + 1)\n",
    "if all(f in X.columns for f in ['f199', 'f200']):\n",
    "    X['decay_click_imp_ratio_30d'] = X['f199'] / (X['f200'] + 1)\n",
    "if all(f in X.columns for f in ['f149', 'f365']):\n",
    "    X['decay_clicks_14d_180d_ratio'] = X['f149'] / (X['f365'] + 1)"
   ]
  },
  {
   "cell_type": "code",
   "execution_count": 58,
   "id": "93f9fb6c-ab83-469f-a95a-e980cadb7efb",
   "metadata": {},
   "outputs": [
    {
     "name": "stderr",
     "output_type": "stream",
     "text": [
      "C:\\Users\\arpit\\AppData\\Local\\Temp\\ipykernel_25196\\3450094144.py:3: PerformanceWarning: DataFrame is highly fragmented.  This is usually the result of calling `frame.insert` many times, which has poor performance.  Consider joining all columns at once using pd.concat(axis=1) instead. To get a de-fragmented frame, use `newframe = frame.copy()`\n",
      "  X_test['decay_click_imp_ratio_14d'] = X_test['f149'] / (X_test['f146'] + 1)\n",
      "C:\\Users\\arpit\\AppData\\Local\\Temp\\ipykernel_25196\\3450094144.py:5: PerformanceWarning: DataFrame is highly fragmented.  This is usually the result of calling `frame.insert` many times, which has poor performance.  Consider joining all columns at once using pd.concat(axis=1) instead. To get a de-fragmented frame, use `newframe = frame.copy()`\n",
      "  X_test['decay_click_imp_ratio_30d'] = X_test['f199'] / (X_test['f200'] + 1)\n",
      "C:\\Users\\arpit\\AppData\\Local\\Temp\\ipykernel_25196\\3450094144.py:7: PerformanceWarning: DataFrame is highly fragmented.  This is usually the result of calling `frame.insert` many times, which has poor performance.  Consider joining all columns at once using pd.concat(axis=1) instead. To get a de-fragmented frame, use `newframe = frame.copy()`\n",
      "  X_test['decay_clicks_14d_180d_ratio'] = X_test['f149'] / (X_test['f365'] + 1)\n"
     ]
    }
   ],
   "source": [
    "#FOR TEST\n",
    "if all(f in X_test.columns for f in ['f149', 'f146']):\n",
    "    X_test['decay_click_imp_ratio_14d'] = X_test['f149'] / (X_test['f146'] + 1)\n",
    "if all(f in X_test.columns for f in ['f199', 'f200']):\n",
    "    X_test['decay_click_imp_ratio_30d'] = X_test['f199'] / (X_test['f200'] + 1)\n",
    "if all(f in X_test.columns for f in ['f149', 'f365']):\n",
    "    X_test['decay_clicks_14d_180d_ratio'] = X_test['f149'] / (X_test['f365'] + 1)"
   ]
  },
  {
   "cell_type": "code",
   "execution_count": 59,
   "id": "60724c33-f6d8-4c32-a279-22bb01b89fb1",
   "metadata": {},
   "outputs": [],
   "source": [
    "Column_to_drop.extend(['f149','f146','199','f200','f365'])"
   ]
  },
  {
   "cell_type": "code",
   "execution_count": 60,
   "id": "cbb06c7d-8563-4f1f-8538-99e8d88d4a1e",
   "metadata": {},
   "outputs": [
    {
     "name": "stdout",
     "output_type": "stream",
     "text": [
      "<class 'pandas.core.frame.DataFrame'>\n",
      "RangeIndex: 770164 entries, 0 to 770163\n",
      "Columns: 366 entries, id4 to decay_clicks_14d_180d_ratio\n",
      "dtypes: float64(348), int64(18)\n",
      "memory usage: 2.1 GB\n"
     ]
    }
   ],
   "source": [
    "X.info()"
   ]
  },
  {
   "cell_type": "code",
   "execution_count": 61,
   "id": "2f550999-0471-4d86-bb97-a2031c9173d7",
   "metadata": {},
   "outputs": [
    {
     "name": "stdout",
     "output_type": "stream",
     "text": [
      "<class 'pandas.core.frame.DataFrame'>\n",
      "RangeIndex: 369301 entries, 0 to 369300\n",
      "Columns: 366 entries, id4 to decay_clicks_14d_180d_ratio\n",
      "dtypes: float64(348), int64(18)\n",
      "memory usage: 1.0 GB\n"
     ]
    }
   ],
   "source": [
    "X_test.info()"
   ]
  },
  {
   "cell_type": "code",
   "execution_count": 62,
   "id": "212842f6-b82a-436e-a025-8f7ebc8173fa",
   "metadata": {},
   "outputs": [
    {
     "name": "stdout",
     "output_type": "stream",
     "text": [
      "Feature | % Missing | Unique Count | Min | Max | Std\n",
      "f233 | 0.000 | 1 | 0.00 | 0.00 | 0.00\n",
      "f234 | 0.000 | 1 | 0.00 | 0.00 | 0.00\n",
      "f235 | 0.000 | 1 | 0.00 | 0.00 | 0.00\n",
      "f236 | 0.000 | 1 | 0.00 | 0.00 | 0.00\n",
      "f237 | 0.000 | 2 | 0.00 | 1.00 | 0.23\n",
      "f238 | 0.000 | 1 | 0.00 | 0.00 | 0.00\n",
      "f239 | 0.000 | 1 | 0.00 | 0.00 | 0.00\n",
      "f240 | 0.000 | 1 | 0.00 | 0.00 | 0.00\n",
      "f241 | 0.000 | 1 | 0.00 | 0.00 | 0.00\n",
      "f242 | 0.000 | 1 | 0.00 | 0.00 | 0.00\n",
      "f243 | 0.000 | 1 | 0.00 | 0.00 | 0.00\n",
      "f244 | 0.000 | 1 | 0.00 | 0.00 | 0.00\n",
      "f245 | 0.000 | 1 | 0.00 | 0.00 | 0.00\n",
      "f246 | 0.000 | 1 | 0.00 | 0.00 | 0.00\n",
      "f247 | 0.000 | 1 | 0.00 | 0.00 | 0.00\n",
      "f248 | 0.000 | 1 | 0.00 | 0.00 | 0.00\n",
      "f249 | 0.000 | 1 | 0.00 | 0.00 | 0.00\n",
      "f250 | 0.000 | 1 | 0.00 | 0.00 | 0.00\n",
      "f251 | 0.000 | 1 | 0.00 | 0.00 | 0.00\n",
      "f252 | 0.000 | 2 | 0.00 | 1.00 | 0.32\n",
      "f253 | 0.000 | 1 | 0.00 | 0.00 | 0.00\n",
      "f254 | 0.000 | 1 | 0.00 | 0.00 | 0.00\n",
      "f255 | 0.000 | 1 | 0.00 | 0.00 | 0.00\n",
      "f256 | 0.000 | 1 | 0.00 | 0.00 | 0.00\n",
      "f257 | 0.000 | 1 | 0.00 | 0.00 | 0.00\n",
      "f258 | 0.000 | 1 | 0.00 | 0.00 | 0.00\n",
      "f259 | 0.000 | 1 | 0.00 | 0.00 | 0.00\n",
      "f260 | 0.000 | 1 | 0.00 | 0.00 | 0.00\n",
      "f261 | 0.000 | 1 | 0.00 | 0.00 | 0.00\n",
      "f262 | 0.000 | 1 | 0.00 | 0.00 | 0.00\n",
      "f263 | 0.000 | 1 | 0.00 | 0.00 | 0.00\n",
      "f264 | 0.000 | 1 | 0.00 | 0.00 | 0.00\n",
      "f265 | 0.000 | 2 | 0.00 | 1.00 | 0.16\n",
      "f266 | 0.000 | 1 | 0.00 | 0.00 | 0.00\n",
      "f267 | 0.000 | 1 | 0.00 | 0.00 | 0.00\n",
      "f268 | 0.000 | 1 | 0.00 | 0.00 | 0.00\n",
      "f269 | 0.000 | 2 | 0.00 | 1.00 | 0.20\n",
      "f270 | 0.000 | 1 | 0.00 | 0.00 | 0.00\n",
      "f271 | 0.000 | 1 | 0.00 | 0.00 | 0.00\n",
      "f272 | 0.000 | 1 | 0.00 | 0.00 | 0.00\n",
      "f273 | 0.000 | 1 | 0.00 | 0.00 | 0.00\n",
      "f274 | 0.000 | 2 | 0.00 | 1.00 | 0.17\n",
      "f275 | 0.000 | 2 | 0.00 | 1.00 | 0.18\n",
      "f276 | 0.000 | 2 | 0.00 | 1.00 | 0.15\n",
      "f277 | 0.000 | 1 | 0.00 | 0.00 | 0.00\n",
      "f278 | 0.000 | 1 | 0.00 | 0.00 | 0.00\n",
      "f279 | 0.000 | 1 | 0.00 | 0.00 | 0.00\n",
      "f280 | 0.000 | 2 | 0.00 | 1.00 | 0.20\n",
      "f281 | 0.000 | 1 | 0.00 | 0.00 | 0.00\n",
      "f282 | 0.000 | 1 | 0.00 | 0.00 | 0.00\n",
      "f283 | 0.000 | 1 | 0.00 | 0.00 | 0.00\n",
      "f284 | 0.000 | 1 | 0.00 | 0.00 | 0.00\n",
      "f285 | 0.000 | 2 | 0.00 | 1.00 | 0.49\n",
      "f286 | 0.000 | 1 | 0.00 | 0.00 | 0.00\n",
      "f287 | 0.000 | 1 | 0.00 | 0.00 | 0.00\n",
      "f288 | 0.000 | 2 | 0.00 | 1.00 | 0.20\n",
      "f289 | 0.000 | 1 | 0.00 | 0.00 | 0.00\n",
      "f290 | 0.000 | 1 | 0.00 | 0.00 | 0.00\n",
      "f291 | 0.000 | 1 | 0.00 | 0.00 | 0.00\n",
      "f292 | 0.000 | 1 | 0.00 | 0.00 | 0.00\n",
      "f293 | 0.000 | 1 | 0.00 | 0.00 | 0.00\n",
      "f294 | 0.000 | 1 | 0.00 | 0.00 | 0.00\n",
      "f295 | 0.000 | 1 | 0.00 | 0.00 | 0.00\n",
      "f296 | 0.000 | 1 | 0.00 | 0.00 | 0.00\n",
      "f297 | 0.000 | 1 | 0.00 | 0.00 | 0.00\n",
      "f298 | 0.000 | 1 | 0.00 | 0.00 | 0.00\n",
      "f299 | 0.000 | 1 | 0.00 | 0.00 | 0.00\n",
      "f300 | 0.000 | 1 | 0.00 | 0.00 | 0.00\n",
      "f301 | 0.000 | 1 | 0.00 | 0.00 | 0.00\n",
      "f302 | 0.000 | 1 | 0.00 | 0.00 | 0.00\n",
      "f303 | 0.000 | 1 | 0.00 | 0.00 | 0.00\n",
      "f304 | 0.000 | 1 | 0.00 | 0.00 | 0.00\n",
      "f305 | 0.000 | 1 | 0.00 | 0.00 | 0.00\n",
      "f306 | 0.000 | 1 | 0.00 | 0.00 | 0.00\n",
      "f307 | 0.000 | 1 | 0.00 | 0.00 | 0.00\n",
      "f308 | 0.000 | 1 | 0.00 | 0.00 | 0.00\n",
      "f309 | 0.000 | 1 | 0.00 | 0.00 | 0.00\n"
     ]
    }
   ],
   "source": [
    "# List of columns proposed for additional engineering\n",
    "additional_feats = [\n",
    "    *[f\"f{idx}\" for idx in range(233, 310) if f\"f{idx}\" in X.columns],\n",
    "]\n",
    "\n",
    "print(\"Feature | % Missing | Unique Count | Min | Max | Std\")\n",
    "for col in additional_feats:\n",
    "    if col in X.columns:\n",
    "        missing_pct = X[col].isnull().mean()\n",
    "        unique = X[col].nunique()\n",
    "        desc = X[col].describe()\n",
    "        print(f\"{col} | {missing_pct:.3f} | {unique} | {desc['min']:.2f} | {desc['max']:.2f} | {desc['std']:.2f}\")\n"
   ]
  },
  {
   "cell_type": "code",
   "execution_count": 63,
   "id": "870f5366-79a8-414e-9d40-3b12cc4c26c7",
   "metadata": {},
   "outputs": [
    {
     "name": "stdout",
     "output_type": "stream",
     "text": [
      "          f375      f351      f352      f353\n",
      "f375  1.000000  0.125484  0.116365 -0.126588\n",
      "f351  0.125484  1.000000  0.972468 -0.997738\n",
      "f352  0.116365  0.972468  1.000000 -0.971608\n",
      "f353 -0.126588 -0.997738 -0.971608  1.000000\n"
     ]
    }
   ],
   "source": [
    "# Correlation matrix to see redundancy\n",
    "choose_feats = ['f375', 'f351', 'f352', 'f353']\n",
    "corr = X[choose_feats].corr()\n",
    "print(corr)"
   ]
  },
  {
   "cell_type": "code",
   "execution_count": 64,
   "id": "f317450c-98b3-4fd0-80ab-f6a5ae713c39",
   "metadata": {},
   "outputs": [
    {
     "data": {
      "image/png": "[encoded data removed]",
      "text/plain": [
       "<Figure size 640x480 with 2 Axes>"
      ]
     },
     "metadata": {},
     "output_type": "display_data"
    }
   ],
   "source": [
    "import matplotlib.pyplot as plt\n",
    "for f in ['f375', 'f376']:\n",
    "    if f in X.columns:\n",
    "        X[f].hist(by=y, bins=10)\n",
    "        plt.title(f)\n",
    "        plt.show()"
   ]
  },
  {
   "cell_type": "code",
   "execution_count": 65,
   "id": "f7c0fea7-f9ad-42f2-8091-99c0f09f9f61",
   "metadata": {},
   "outputs": [
    {
     "name": "stderr",
     "output_type": "stream",
     "text": [
      "C:\\Users\\arpit\\AppData\\Local\\Temp\\ipykernel_25196\\3248789408.py:2: PerformanceWarning: DataFrame is highly fragmented.  This is usually the result of calling `frame.insert` many times, which has poor performance.  Consider joining all columns at once using pd.concat(axis=1) instead. To get a de-fragmented frame, use `newframe = frame.copy()`\n",
      "  X['num_offer_subcats'] = X[subcat_onehots].sum(axis=1)\n",
      "C:\\Users\\arpit\\AppData\\Local\\Temp\\ipykernel_25196\\3248789408.py:3: PerformanceWarning: DataFrame is highly fragmented.  This is usually the result of calling `frame.insert` many times, which has poor performance.  Consider joining all columns at once using pd.concat(axis=1) instead. To get a de-fragmented frame, use `newframe = frame.copy()`\n",
      "  X_test['num_offer_subcats'] = X_test[subcat_onehots].sum(axis=1)\n"
     ]
    }
   ],
   "source": [
    "subcat_onehots = [f\"f{idx}\" for idx in range(237, 310) if f\"f{idx}\" in X.columns]\n",
    "X['num_offer_subcats'] = X[subcat_onehots].sum(axis=1)\n",
    "X_test['num_offer_subcats'] = X_test[subcat_onehots].sum(axis=1)"
   ]
  },
  {
   "cell_type": "code",
   "execution_count": 66,
   "id": "1298263a-cf96-4370-889e-377c656de401",
   "metadata": {},
   "outputs": [
    {
     "name": "stderr",
     "output_type": "stream",
     "text": [
      "C:\\Users\\arpit\\AppData\\Local\\Temp\\ipykernel_25196\\70831715.py:2: PerformanceWarning: DataFrame is highly fragmented.  This is usually the result of calling `frame.insert` many times, which has poor performance.  Consider joining all columns at once using pd.concat(axis=1) instead. To get a de-fragmented frame, use `newframe = frame.copy()`\n",
      "  X['offer_age_mean'] = X[['f351','f352','f353']].mean(axis=1)\n",
      "C:\\Users\\arpit\\AppData\\Local\\Temp\\ipykernel_25196\\70831715.py:3: PerformanceWarning: DataFrame is highly fragmented.  This is usually the result of calling `frame.insert` many times, which has poor performance.  Consider joining all columns at once using pd.concat(axis=1) instead. To get a de-fragmented frame, use `newframe = frame.copy()`\n",
      "  X_test['offer_age_mean'] = X_test[['f351','f352','f353']].mean(axis=1)\n"
     ]
    }
   ],
   "source": [
    "# Use only one as \"age\" proxy or combine:\n",
    "X['offer_age_mean'] = X[['f351','f352','f353']].mean(axis=1)\n",
    "X_test['offer_age_mean'] = X_test[['f351','f352','f353']].mean(axis=1)"
   ]
  },
  {
   "cell_type": "code",
   "execution_count": 67,
   "id": "9f29543c-6580-4c94-a4f1-b32a4b38ae44",
   "metadata": {},
   "outputs": [],
   "source": [
    "if 'f376' in X.columns:\n",
    "    X['discount_bin'] = pd.qcut(X['f376'], q=4, duplicates=\"drop\", labels=False)\n",
    "if 'f376' in X_test.columns:\n",
    "    X_test['discount_bin'] = pd.qcut(X_test['f376'], q=4, duplicates=\"drop\", labels=False)"
   ]
  },
  {
   "cell_type": "code",
   "execution_count": 68,
   "id": "93f4ecb2-66ac-48d7-a401-1d35589ca303",
   "metadata": {},
   "outputs": [
    {
     "name": "stdout",
     "output_type": "stream",
     "text": [
      "<class 'pandas.core.frame.DataFrame'>\n",
      "RangeIndex: 770164 entries, 0 to 770163\n",
      "Columns: 368 entries, id4 to offer_age_mean\n",
      "dtypes: float64(350), int64(18)\n",
      "memory usage: 2.1 GB\n"
     ]
    }
   ],
   "source": [
    "X.info()"
   ]
  },
  {
   "cell_type": "code",
   "execution_count": 69,
   "id": "6fe05005-9e70-44bb-9baf-c610031a8eb2",
   "metadata": {},
   "outputs": [
    {
     "name": "stdout",
     "output_type": "stream",
     "text": [
      "<class 'pandas.core.frame.DataFrame'>\n",
      "RangeIndex: 369301 entries, 0 to 369300\n",
      "Columns: 368 entries, id4 to offer_age_mean\n",
      "dtypes: float64(350), int64(18)\n",
      "memory usage: 1.0 GB\n"
     ]
    }
   ],
   "source": [
    "X_test.info()"
   ]
  },
  {
   "cell_type": "code",
   "execution_count": 76,
   "id": "27ce877d-f659-4d1b-b540-a3c20408a714",
   "metadata": {},
   "outputs": [],
   "source": [
    "Column_to_drop.extend([f\"f{idx}\" for idx in range(237, 310) if f\"f{idx}\"])"
   ]
  },
  {
   "cell_type": "code",
   "execution_count": 71,
   "id": "9fe2fb49-aa5e-4ad1-b478-9e6bbfdcc4e0",
   "metadata": {},
   "outputs": [],
   "source": [
    "Column_to_drop.extend(['f351','f352','f353'])"
   ]
  },
  {
   "cell_type": "code",
   "execution_count": 72,
   "id": "82fa5b20-0ff2-4813-899c-a41c3aab359d",
   "metadata": {},
   "outputs": [],
   "source": [
    "id_cols = ['id1', 'id2', 'id3', 'id5'] \n",
    "\n",
    "train_ids = train[id_cols].copy()\n",
    "test_ids = test[id_cols].copy()"
   ]
  },
  {
   "cell_type": "code",
   "execution_count": 74,
   "id": "33a8818a-5c8d-4336-809c-8fbd58b76d7e",
   "metadata": {},
   "outputs": [],
   "source": [
    "Column_to_drop.extend(['f1', 'f2', 'f5', 'f6', 'f7', 'f8', 'f9', 'f10', 'f11', 'f12','f13','f14','f15','f16','f17','f18','f19','f20','f21','f22','f23','f24','f25','f26','f27'])"
   ]
  },
  {
   "cell_type": "code",
   "execution_count": 75,
   "id": "0b304b72-d8bc-4d40-bb0e-072e3ce687dd",
   "metadata": {},
   "outputs": [
    {
     "data": {
      "text/plain": [
       "['f59',\n",
       " 'f68',\n",
       " 'f60',\n",
       " 'f69',\n",
       " 'f65',\n",
       " 'f74',\n",
       " 'f310',\n",
       " 'f311',\n",
       " 'f312',\n",
       " 'f314',\n",
       " 'f319',\n",
       " 'f317',\n",
       " 'f324',\n",
       " 'f322',\n",
       " 'f39',\n",
       " 'f40',\n",
       " 'f41',\n",
       " 'f163',\n",
       " 'f164',\n",
       " 'f169',\n",
       " 'f158',\n",
       " 'f179',\n",
       " 'f226',\n",
       " 'f227',\n",
       " 'f228',\n",
       " 'f229',\n",
       " 'f230',\n",
       " 'f231',\n",
       " 'f232',\n",
       " 'f233',\n",
       " 'f168',\n",
       " 'f349',\n",
       " 'f149',\n",
       " 'f146',\n",
       " '199',\n",
       " 'f200',\n",
       " 'f365',\n",
       " 'f237',\n",
       " 'f238',\n",
       " 'f239',\n",
       " 'f240',\n",
       " 'f241',\n",
       " 'f242',\n",
       " 'f243',\n",
       " 'f244',\n",
       " 'f245',\n",
       " 'f246',\n",
       " 'f247',\n",
       " 'f248',\n",
       " 'f249',\n",
       " 'f250',\n",
       " 'f251',\n",
       " 'f252',\n",
       " 'f253',\n",
       " 'f254',\n",
       " 'f255',\n",
       " 'f256',\n",
       " 'f257',\n",
       " 'f258',\n",
       " 'f259',\n",
       " 'f260',\n",
       " 'f261',\n",
       " 'f262',\n",
       " 'f263',\n",
       " 'f264',\n",
       " 'f265',\n",
       " 'f266',\n",
       " 'f267',\n",
       " 'f268',\n",
       " 'f269',\n",
       " 'f270',\n",
       " 'f271',\n",
       " 'f272',\n",
       " 'f273',\n",
       " 'f274',\n",
       " 'f275',\n",
       " 'f276',\n",
       " 'f277',\n",
       " 'f278',\n",
       " 'f279',\n",
       " 'f280',\n",
       " 'f281',\n",
       " 'f282',\n",
       " 'f283',\n",
       " 'f284',\n",
       " 'f285',\n",
       " 'f286',\n",
       " 'f287',\n",
       " 'f288',\n",
       " 'f289',\n",
       " 'f290',\n",
       " 'f291',\n",
       " 'f292',\n",
       " 'f293',\n",
       " 'f294',\n",
       " 'f295',\n",
       " 'f296',\n",
       " 'f297',\n",
       " 'f298',\n",
       " 'f299',\n",
       " 'f300',\n",
       " 'f301',\n",
       " 'f302',\n",
       " 'f303',\n",
       " 'f304',\n",
       " 'f305',\n",
       " 'f306',\n",
       " 'f307',\n",
       " 'f308',\n",
       " 'f309',\n",
       " 'f351',\n",
       " 'f352',\n",
       " 'f353',\n",
       " 'f1',\n",
       " 'f2',\n",
       " 'f5',\n",
       " 'f6',\n",
       " 'f7',\n",
       " 'f8',\n",
       " 'f9',\n",
       " 'f10',\n",
       " 'f11',\n",
       " 'f12',\n",
       " 'f13',\n",
       " 'f14',\n",
       " 'f15',\n",
       " 'f16',\n",
       " 'f17',\n",
       " 'f18',\n",
       " 'f19',\n",
       " 'f20',\n",
       " 'f21',\n",
       " 'f22',\n",
       " 'f23',\n",
       " 'f24',\n",
       " 'f25',\n",
       " 'f26',\n",
       " 'f27']"
      ]
     },
     "execution_count": 75,
     "metadata": {},
     "output_type": "execute_result"
    }
   ],
   "source": [
    "Column_to_drop"
   ]
  },
  {
   "cell_type": "code",
   "execution_count": 77,
   "id": "ca9766a3-5c13-44b5-af62-d5f29340dc2d",
   "metadata": {},
   "outputs": [],
   "source": [
    "Column_to_drop = list(set(Column_to_drop))"
   ]
  },
  {
   "cell_type": "code",
   "execution_count": 79,
   "id": "2b79f874-588b-449d-b835-285616ccb475",
   "metadata": {},
   "outputs": [],
   "source": [
    "X_clean = X.drop(columns=[col for col in Column_to_drop if col in X.columns])"
   ]
  },
  {
   "cell_type": "code",
   "execution_count": 80,
   "id": "77599ef7-ee0d-4d56-96ad-5ec755874054",
   "metadata": {},
   "outputs": [],
   "source": [
    "X_test_clean = X_test.drop(columns=[col for col in Column_to_drop if col in X_test.columns])"
   ]
  },
  {
   "cell_type": "code",
   "execution_count": 81,
   "id": "2c0f953a-50a0-48bd-8e3f-9e6bf3bc3020",
   "metadata": {},
   "outputs": [
    {
     "name": "stdout",
     "output_type": "stream",
     "text": [
      "<class 'pandas.core.frame.DataFrame'>\n",
      "RangeIndex: 770164 entries, 0 to 770163\n",
      "Columns: 240 entries, id4 to offer_age_mean\n",
      "dtypes: float64(223), int64(17)\n",
      "memory usage: 1.4 GB\n"
     ]
    }
   ],
   "source": [
    "X_clean.info()"
   ]
  },
  {
   "cell_type": "code",
   "execution_count": 82,
   "id": "a430b44c-e690-4029-8252-28b8cbd6a6db",
   "metadata": {},
   "outputs": [
    {
     "name": "stdout",
     "output_type": "stream",
     "text": [
      "<class 'pandas.core.frame.DataFrame'>\n",
      "RangeIndex: 369301 entries, 0 to 369300\n",
      "Columns: 240 entries, id4 to offer_age_mean\n",
      "dtypes: float64(223), int64(17)\n",
      "memory usage: 676.2 MB\n"
     ]
    }
   ],
   "source": [
    "X_test_clean.info()"
   ]
  },
  {
   "cell_type": "code",
   "execution_count": 83,
   "id": "9142a9f9-1668-4dab-9bdc-0b63e0f69f8a",
   "metadata": {},
   "outputs": [],
   "source": [
    "X_with_ids = pd.concat([train_ids.reset_index(drop=True), X_clean.reset_index(drop=True)], axis=1)\n",
    "X_test_with_ids = pd.concat([test_ids.reset_index(drop=True), X_test_clean.reset_index(drop=True)], axis=1)"
   ]
  },
  {
   "cell_type": "code",
   "execution_count": 84,
   "id": "6154013a-d555-4e5b-b72c-fe8c546f277d",
   "metadata": {},
   "outputs": [],
   "source": [
    "X_with_ids['y'] = train['y']"
   ]
  },
  {
   "cell_type": "code",
   "execution_count": 85,
   "id": "c2fd18b6-65ec-49fb-87b5-83aeb6da963a",
   "metadata": {},
   "outputs": [
    {
     "name": "stdout",
     "output_type": "stream",
     "text": [
      "<class 'pandas.core.frame.DataFrame'>\n",
      "RangeIndex: 770164 entries, 0 to 770163\n",
      "Columns: 245 entries, id1 to y\n",
      "dtypes: float64(223), int64(20), object(2)\n",
      "memory usage: 1.4+ GB\n"
     ]
    }
   ],
   "source": [
    "X_with_ids.info()"
   ]
  },
  {
   "cell_type": "code",
   "execution_count": 86,
   "id": "9f85914f-1bc9-42af-9811-b29c2cdade7e",
   "metadata": {},
   "outputs": [
    {
     "name": "stdout",
     "output_type": "stream",
     "text": [
      "<class 'pandas.core.frame.DataFrame'>\n",
      "RangeIndex: 369301 entries, 0 to 369300\n",
      "Columns: 244 entries, id1 to offer_age_mean\n",
      "dtypes: float64(223), int64(19), object(2)\n",
      "memory usage: 687.5+ MB\n"
     ]
    }
   ],
   "source": [
    "X_test_with_ids.info()"
   ]
  },
  {
   "cell_type": "code",
   "execution_count": 87,
   "id": "1621dc46-8a5a-47c0-8290-68e495b43562",
   "metadata": {},
   "outputs": [],
   "source": [
    "X_with_ids.to_csv(\"Featured_train.csv\")"
   ]
  },
  {
   "cell_type": "code",
   "execution_count": 88,
   "id": "c12efc0c-1072-4d52-abd0-f849adbe4e36",
   "metadata": {},
   "outputs": [],
   "source": [
    "X_test_with_ids.to_csv(\"Featured_test.csv\")"
   ]
  },
  {
   "cell_type": "code",
   "execution_count": null,
   "id": "c5a21a57-9bef-444f-8973-393f5ab527b5",
   "metadata": {},
   "outputs": [],
   "source": []
  }
 ],
 "metadata": {
  "kernelspec": {
   "display_name": "Python 3 (ipykernel)",
   "language": "python",
   "name": "python3"
  },
  "language_info": {
   "codemirror_mode": {
    "name": "ipython",
    "version": 3
   },
   "file_extension": ".py",
   "mimetype": "text/x-python",
   "name": "python",
   "nbconvert_exporter": "python",
   "pygments_lexer": "ipython3",
   "version": "3.13.5"
  }
 },
 "nbformat": 4,
 "nbformat_minor": 5
}
