{
 "cells": [
  {
   "cell_type": "code",
   "execution_count": 1,
   "id": "ec8b817d-cfad-4f26-a553-f55d5bb20aea",
   "metadata": {},
   "outputs": [],
   "source": [
    "import pandas as pd\n",
    "import numpy as np\n",
    "import lightgbm as lgb\n",
    "import xgboost as xgb\n",
    "import re\n",
    "import warnings\n",
    "from sklearn.metrics import roc_auc_score\n",
    "from sklearn.model_selection import GroupKFold\n",
    "from sklearn.metrics import average_precision_score\n",
    "import matplotlib.pyplot as plt"
   ]
  },
  {
   "cell_type": "code",
   "execution_count": 2,
   "id": "18162701-bba0-4616-b75e-528c2ab14dc5",
   "metadata": {},
   "outputs": [],
   "source": [
    "warnings.filterwarnings('ignore')\n"
   ]
  },
  {
   "cell_type": "code",
   "execution_count": 3,
   "id": "2ee72119-f9d3-4c12-9fcf-031609581df7",
   "metadata": {},
   "outputs": [],
   "source": [
    "train = pd.read_csv(\"Featured_train.csv\")\n",
    "test = pd.read_csv(\"Featured_test.csv\")"
   ]
  },
  {
   "cell_type": "code",
   "execution_count": 4,
   "id": "a3128df9-7fae-4856-907f-01117f50fede",
   "metadata": {},
   "outputs": [],
   "source": [
    "id_columns = ['id1', 'id2', 'id3', 'id5']\n",
    "target_col = 'y'\n",
    "feature_cols = [col for col in train.columns if col not in id_columns + [target_col]]\n",
    "\n",
    "X = train[feature_cols].copy()\n",
    "y = train[target_col].copy()\n",
    "X_test = test[feature_cols].copy()\n",
    "groups = train['id2'].copy()\n"
   ]
  },
  {
   "cell_type": "code",
   "execution_count": 5,
   "id": "41f8317f-ca7d-4d50-815b-268b2dbe8b31",
   "metadata": {},
   "outputs": [],
   "source": [
    "X.columns = [re.sub(r'\\W+', '_', col) for col in X.columns]\n",
    "X_test.columns = [re.sub(r'\\W+', '_', col) for col in X_test.columns]\n",
    "\n",
    "X.fillna(X.median(), inplace=True)\n",
    "X_test.fillna(X_test.median(), inplace=True)"
   ]
  },
  {
   "cell_type": "code",
   "execution_count": null,
   "id": "f7962120-2848-495c-8e46-a7c1c762e3fe",
   "metadata": {},
   "outputs": [],
   "source": [
    "for df in [X, X_test]:\n",
    "    for col in df.columns:\n",
    "        df[col + '_rank'] = df.groupby(groups if df is X else test['id2'])[col].rank(pct=True)\n",
    "\n",
    "X_test.fillna(0, inplace=True)"
   ]
  },
  {
   "cell_type": "code",
   "execution_count": null,
   "id": "7c3cfb99-bc0b-43de-b26a-fd4e9c27a199",
   "metadata": {},
   "outputs": [],
   "source": [
    "n_splits = 5\n",
    "kf = GroupKFold(n_splits=n_splits)\n",
    "folds = list(kf.split(X, y, groups))"
   ]
  },
  {
   "cell_type": "code",
   "execution_count": null,
   "id": "824053f3-a56d-405b-960e-2cb817fec1ab",
   "metadata": {},
   "outputs": [],
   "source": [
    "lgb_params = {\n",
    "    'objective': 'lambdarank',\n",
    "    'metric': 'ndcg',\n",
    "    'ndcg_eval_at': [7],\n",
    "    'learning_rate': 0.02,\n",
    "    'num_leaves': 85,\n",
    "    'max_depth': 12,\n",
    "    'min_data_in_leaf': 30,\n",
    "    'feature_fraction': 0.85,\n",
    "    'bagging_fraction': 0.85,\n",
    "    'bagging_freq': 5,\n",
    "    'lambda_l1': 1,\n",
    "    'lambda_l2': 1,\n",
    "    'n_estimators': 1000,\n",
    "    'random_state': 42,\n",
    "    'verbosity': -1\n",
    "}\n"
   ]
  },
  {
   "cell_type": "code",
   "execution_count": null,
   "id": "bca159b1-988c-49f1-aac6-79857108ef70",
   "metadata": {},
   "outputs": [],
   "source": [
    "def map_at_7(y_true, y_score, user_ids, k=7):\n",
    "    df = pd.DataFrame({'y': y_true, 'score': y_score, 'user': user_ids})\n",
    "    ap_list = []\n",
    "    for _, sub in df.groupby('user'):\n",
    "        top = sub.sort_values('score', ascending=False).head(k)\n",
    "        if top['y'].sum() > 0:\n",
    "            ap_list.append(average_precision_score(top['y'], top['score']))\n",
    "    return np.mean(ap_list)\n"
   ]
  },
  {
   "cell_type": "code",
   "execution_count": null,
   "id": "34a25f79-0571-4946-b5d3-78d78e615b04",
   "metadata": {},
   "outputs": [],
   "source": [
    "oof_preds = np.zeros(X.shape[0])\n",
    "test_preds = np.zeros(X_test.shape[0])"
   ]
  },
  {
   "cell_type": "code",
   "execution_count": null,
   "id": "6790ff83-f0e9-449c-b854-e974d5d92a55",
   "metadata": {},
   "outputs": [],
   "source": [
    "for fold, (train_idx, val_idx) in enumerate(folds):\n",
    "    print(f\"\\nFold {fold+1}\")\n",
    "\n",
    "    X_train, y_train = X.iloc[train_idx], y.iloc[train_idx]\n",
    "    X_val, y_val = X.iloc[val_idx], y.iloc[val_idx]\n",
    "    groups_train = groups.iloc[train_idx]\n",
    "    groups_val = groups.iloc[val_idx]\n",
    "\n",
    "    lgb_train = lgb.Dataset(X_train, y_train, group=groups_train.value_counts().sort_index().values)\n",
    "    lgb_val = lgb.Dataset(X_val, y_val, group=groups_val.value_counts().sort_index().values)\n",
    "\n",
    "    model = lgb.train(\n",
    "        lgb_params,\n",
    "        lgb_train,\n",
    "        valid_sets=[lgb_val],\n",
    "        callbacks=[lgb.early_stopping(100), lgb.log_evaluation(100)]\n",
    "    )\n",
    "\n",
    "    val_pred = model.predict(X_val, num_iteration=model.best_iteration)\n",
    "    oof_preds[val_idx] = val_pred\n",
    "\n",
    "    test_preds += model.predict(X_test, num_iteration=model.best_iteration) / n_splits\n"
   ]
  },
  {
   "cell_type": "code",
   "execution_count": 30,
   "id": "ec71a6ed-7ecb-4e85-b054-d09bc98b936d",
   "metadata": {},
   "outputs": [
    {
     "name": "stdout",
     "output_type": "stream",
     "text": [
      "\n",
      "📈 Overall MAP@7: 0.72095\n"
     ]
    }
   ],
   "source": [
    "map7_score = map_at_7(y, oof_preds, groups)\n",
    "print(f\"\\n📈 Overall MAP@7: {map7_score:.5f}\")"
   ]
  },
  {
   "cell_type": "code",
   "execution_count": null,
   "id": "ff7809d6-f3cc-44f7-af79-52c1d16f9373",
   "metadata": {},
   "outputs": [],
   "source": [
    "submission = test[['id1', 'id2', 'id3', 'id5']].copy()\n",
    "submission['pred'] = test_preds\n",
    "submission['pred'] = submission.groupby('id2')['pred'].transform(\n",
    "    lambda x: (x - x.min()) / (x.max() - x.min()) if x.max() > x.min() else 0.5\n",
    ")\n",
    "submission.to_csv(\"submission_map7_optimized.csv\", index=False)"
   ]
  },
  {
   "cell_type": "code",
   "execution_count": null,
   "id": "5696e2ea-d335-4cd2-b2e2-3e5b4118d835",
   "metadata": {},
   "outputs": [],
   "source": []
  },
  {
   "cell_type": "code",
   "execution_count": null,
   "id": "b582e537-34ce-4e57-9b5a-94968f47058e",
   "metadata": {},
   "outputs": [],
   "source": []
  }
 ],
 "metadata": {
  "kernelspec": {
   "display_name": "Python 3 (ipykernel)",
   "language": "python",
   "name": "python3"
  },
  "language_info": {
   "codemirror_mode": {
    "name": "ipython",
    "version": 3
   },
   "file_extension": ".py",
   "mimetype": "text/x-python",
   "name": "python",
   "nbconvert_exporter": "python",
   "pygments_lexer": "ipython3",
   "version": "3.13.5"
  }
 },
 "nbformat": 4,
 "nbformat_minor": 5
}
